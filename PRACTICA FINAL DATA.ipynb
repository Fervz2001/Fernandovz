{
 "cells": [
  {
   "cell_type": "markdown",
   "metadata": {},
   "source": [
    "# Práctica final Álvaro Larumbe y Fernando Villalonga"
   ]
  },
  {
   "cell_type": "code",
   "execution_count": 224,
   "metadata": {},
   "outputs": [],
   "source": [
    "import numpy as np\n",
    "import pandas as pd\n",
    "import matplotlib.pyplot as plt\n",
    "import seaborn as sns\n",
    "import seaborn as sb\n",
    "from sklearn.datasets import load_digits\n",
    "from sklearn import linear_model\n",
    "from sklearn import model_selection\n",
    "from sklearn.metrics import classification_report\n",
    "from sklearn.metrics import confusion_matrix\n",
    "from sklearn.metrics import accuracy_score\n",
    "%matplotlib inline\n",
    "import warnings\n",
    "warnings.filterwarnings('ignore')\n",
    "from sklearn.datasets import make_classification\n",
    "from sklearn.ensemble import RandomForestClassifier\n",
    "from sklearn.calibration import calibration_curve\n",
    "from sklearn.calibration import CalibratedClassifierCV\n",
    "from sklearn.metrics import brier_score_loss\n",
    "from sklearn.metrics import classification_report\n",
    "import warnings\n",
    "warnings.filterwarnings('once')\n",
    "warnings.simplefilter('ignore', (DeprecationWarning))"
   ]
  },
  {
   "cell_type": "markdown",
   "metadata": {},
   "source": [
    "Cargamos las librerías que vamos a necesitar para realizar la práctica"
   ]
  },
  {
   "cell_type": "code",
   "execution_count": 225,
   "metadata": {},
   "outputs": [],
   "source": [
    "pd.options.display.max_rows = 5 "
   ]
  },
  {
   "cell_type": "code",
   "execution_count": 226,
   "metadata": {},
   "outputs": [],
   "source": [
    "airbnb = pd.read_csv(\"airbnb-listings-extract.csv\", sep=';')\n"
   ]
  },
  {
   "cell_type": "code",
   "execution_count": 227,
   "metadata": {},
   "outputs": [],
   "source": [
    "airbnb = airbnb.set_index(['ID'])"
   ]
  },
  {
   "cell_type": "code",
   "execution_count": 228,
   "metadata": {},
   "outputs": [],
   "source": [
    "airbnb = airbnb.drop(['Name','Listing Url', 'Scrape ID','Last Scraped','Summary','Thumbnail Url','Medium Url',\n",
    "               'Picture Url','XL Picture Url','Host ID','Host URL','Host Name','Host Since','Host Location',\n",
    "               'Host About','Host Thumbnail Url','Host Picture Url','Host Neighbourhood',\n",
    "               'Neighbourhood','Neighbourhood Cleansed','State','Zipcode','Market','City','Country Code',\n",
    "               'Country','Latitude','Longitude', 'Amenities','Calendar last Scraped','First Review','Last Review',\n",
    "               'License','Jurisdiction Names','Geolocation','Host Verifications',\n",
    "                      'Neighbourhood Group Cleansed','Space', 'Description', 'Neighborhood Overview', 'Notes','Transit',\n",
    "                      'Access', 'Interaction','House Rules','Street','Smart Location','Features'], axis = 1)"
   ]
  },
  {
   "cell_type": "markdown",
   "metadata": {},
   "source": [
    "Descartamos variables no necesarias para nuestro análisis."
   ]
  },
  {
   "cell_type": "markdown",
   "metadata": {},
   "source": [
    "# Limpieza de datos"
   ]
  },
  {
   "cell_type": "code",
   "execution_count": 229,
   "metadata": {},
   "outputs": [],
   "source": [
    "pd.options.display.max_rows = 10"
   ]
  },
  {
   "cell_type": "code",
   "execution_count": 230,
   "metadata": {},
   "outputs": [
    {
     "name": "stdout",
     "output_type": "stream",
     "text": [
      "Experiences Offered                   0\n",
      "Host Response Time                 1899\n",
      "Host Response Rate                 1899\n",
      "Host Acceptance Rate              14741\n",
      "Host Listings Count                   3\n",
      "                                  ...  \n",
      "Review Scores Location             3340\n",
      "Review Scores Value                3341\n",
      "Cancellation Policy                   0\n",
      "Calculated host listings count        4\n",
      "Reviews per Month                  3162\n",
      "Length: 40, dtype: int64\n"
     ]
    },
    {
     "data": {
      "text/plain": [
       "<matplotlib.axes._subplots.AxesSubplot at 0x22e03890748>"
      ]
     },
     "execution_count": 230,
     "metadata": {},
     "output_type": "execute_result"
    },
    {
     "data": {
      "image/png": "[encoded data removed]",
      "text/plain": [
       "<Figure size 432x288 with 1 Axes>"
      ]
     },
     "metadata": {
      "needs_background": "light"
     },
     "output_type": "display_data"
    }
   ],
   "source": [
    "CountNA = airbnb.isna().sum()\n",
    "print(CountNA)\n",
    "CountNA.groupby(CountNA.values).count().plot.bar()"
   ]
  },
  {
   "cell_type": "markdown",
   "metadata": {},
   "source": [
    "Observamos la cantidad de Na que hay por cada variable. Con ello sabemos que hay 16 variables que no contienen ningún Na."
   ]
  },
  {
   "cell_type": "code",
   "execution_count": 231,
   "metadata": {},
   "outputs": [],
   "source": [
    "for col in airbnb.columns: \n",
    "    if sum(airbnb[col].isnull())/float(len(airbnb.index)) > 0.60: del airbnb[col]"
   ]
  },
  {
   "cell_type": "code",
   "execution_count": 232,
   "metadata": {},
   "outputs": [],
   "source": [
    "pd.options.display.max_rows = 50"
   ]
  },
  {
   "cell_type": "code",
   "execution_count": 233,
   "metadata": {},
   "outputs": [
    {
     "data": {
      "text/plain": [
       "Experiences Offered                0.000000\n",
       "Host Response Time                12.848444\n",
       "Host Response Rate                12.848444\n",
       "Host Listings Count                0.020298\n",
       "Host Total Listings Count          0.020298\n",
       "Property Type                      0.000000\n",
       "Room Type                          0.000000\n",
       "Accommodates                       0.000000\n",
       "Bathrooms                          0.372124\n",
       "Bedrooms                           0.169147\n",
       "Beds                               0.331529\n",
       "Bed Type                           0.000000\n",
       "Price                              0.115020\n",
       "Security Deposit                  57.672530\n",
       "Cleaning Fee                      41.224628\n",
       "Guests Included                    0.000000\n",
       "Extra People                       0.000000\n",
       "Minimum Nights                     0.000000\n",
       "Maximum Nights                     0.000000\n",
       "Calendar Updated                   0.000000\n",
       "Availability 30                    0.000000\n",
       "Availability 60                    0.000000\n",
       "Availability 90                    0.000000\n",
       "Availability 365                   0.000000\n",
       "Number of Reviews                  0.000000\n",
       "Review Scores Rating              22.354533\n",
       "Review Scores Accuracy            22.503383\n",
       "Review Scores Cleanliness         22.462788\n",
       "Review Scores Checkin             22.577808\n",
       "Review Scores Communication       22.462788\n",
       "Review Scores Location            22.598106\n",
       "Review Scores Value               22.604871\n",
       "Cancellation Policy                0.000000\n",
       "Calculated host listings count     0.027064\n",
       "Reviews per Month                 21.393775\n",
       "dtype: float64"
      ]
     },
     "execution_count": 233,
     "metadata": {},
     "output_type": "execute_result"
    }
   ],
   "source": [
    "100*airbnb.isna().sum()/airbnb.shape[0]"
   ]
  },
  {
   "cell_type": "markdown",
   "metadata": {},
   "source": [
    "Esto nos muestra el porcentaje de Na por cada variable. Vemos que Security Deposit y Cleaning Fee tienen un 57% y un 41% de Na sobre el total de los datos de dicha variable."
   ]
  },
  {
   "cell_type": "code",
   "execution_count": 234,
   "metadata": {
    "scrolled": true
   },
   "outputs": [
    {
     "name": "stdout",
     "output_type": "stream",
     "text": [
      "Experiences Offered                object\n",
      "Host Response Time                 object\n",
      "Host Response Rate                float64\n",
      "Host Listings Count               float64\n",
      "Host Total Listings Count         float64\n",
      "Property Type                      object\n",
      "Room Type                          object\n",
      "Accommodates                        int64\n",
      "Bathrooms                         float64\n",
      "Bedrooms                          float64\n",
      "Beds                              float64\n",
      "Bed Type                           object\n",
      "Price                             float64\n",
      "Security Deposit                  float64\n",
      "Cleaning Fee                      float64\n",
      "Guests Included                     int64\n",
      "Extra People                        int64\n",
      "Minimum Nights                      int64\n",
      "Maximum Nights                      int64\n",
      "Calendar Updated                   object\n",
      "Availability 30                     int64\n",
      "Availability 60                     int64\n",
      "Availability 90                     int64\n",
      "Availability 365                    int64\n",
      "Number of Reviews                   int64\n",
      "Review Scores Rating              float64\n",
      "Review Scores Accuracy            float64\n",
      "Review Scores Cleanliness         float64\n",
      "Review Scores Checkin             float64\n",
      "Review Scores Communication       float64\n",
      "Review Scores Location            float64\n",
      "Review Scores Value               float64\n",
      "Cancellation Policy                object\n",
      "Calculated host listings count    float64\n",
      "Reviews per Month                 float64\n",
      "dtype: object\n"
     ]
    },
    {
     "data": {
      "text/plain": [
       "<matplotlib.axes._subplots.AxesSubplot at 0x22e04c877c8>"
      ]
     },
     "execution_count": 234,
     "metadata": {},
     "output_type": "execute_result"
    },
    {
     "data": {
      "image/png": "[encoded data removed]",
      "text/plain": [
       "<Figure size 432x288 with 1 Axes>"
      ]
     },
     "metadata": {
      "needs_background": "light"
     },
     "output_type": "display_data"
    }
   ],
   "source": [
    "data_types = airbnb.dtypes\n",
    "print(data_types)\n",
    "data_types.groupby(data_types.values).count().plot.bar()"
   ]
  },
  {
   "cell_type": "code",
   "execution_count": 235,
   "metadata": {},
   "outputs": [],
   "source": [
    "cat_features = airbnb.dtypes[airbnb.dtypes == 'object'].index.to_list()\n",
    "num_features = airbnb.dtypes[airbnb.dtypes != 'object'].index.to_list()"
   ]
  },
  {
   "cell_type": "markdown",
   "metadata": {},
   "source": [
    "Dividimos categóricas y numéricas ya que serán tratadas de distinta manera"
   ]
  },
  {
   "cell_type": "code",
   "execution_count": 236,
   "metadata": {},
   "outputs": [
    {
     "data": {
      "text/plain": [
       "['Experiences Offered',\n",
       " 'Host Response Time',\n",
       " 'Property Type',\n",
       " 'Room Type',\n",
       " 'Bed Type',\n",
       " 'Calendar Updated',\n",
       " 'Cancellation Policy']"
      ]
     },
     "execution_count": 236,
     "metadata": {},
     "output_type": "execute_result"
    }
   ],
   "source": [
    "cat_features"
   ]
  },
  {
   "cell_type": "code",
   "execution_count": 237,
   "metadata": {},
   "outputs": [
    {
     "data": {
      "text/plain": [
       "['Host Response Rate',\n",
       " 'Host Listings Count',\n",
       " 'Host Total Listings Count',\n",
       " 'Accommodates',\n",
       " 'Bathrooms',\n",
       " 'Bedrooms',\n",
       " 'Beds',\n",
       " 'Price',\n",
       " 'Security Deposit',\n",
       " 'Cleaning Fee',\n",
       " 'Guests Included',\n",
       " 'Extra People',\n",
       " 'Minimum Nights',\n",
       " 'Maximum Nights',\n",
       " 'Availability 30',\n",
       " 'Availability 60',\n",
       " 'Availability 90',\n",
       " 'Availability 365',\n",
       " 'Number of Reviews',\n",
       " 'Review Scores Rating',\n",
       " 'Review Scores Accuracy',\n",
       " 'Review Scores Cleanliness',\n",
       " 'Review Scores Checkin',\n",
       " 'Review Scores Communication',\n",
       " 'Review Scores Location',\n",
       " 'Review Scores Value',\n",
       " 'Calculated host listings count',\n",
       " 'Reviews per Month']"
      ]
     },
     "execution_count": 237,
     "metadata": {},
     "output_type": "execute_result"
    }
   ],
   "source": [
    "num_features"
   ]
  },
  {
   "cell_type": "code",
   "execution_count": 238,
   "metadata": {},
   "outputs": [],
   "source": [
    "airbnb[num_features] = airbnb[num_features].fillna(airbnb[num_features].mean())"
   ]
  },
  {
   "cell_type": "code",
   "execution_count": 239,
   "metadata": {},
   "outputs": [],
   "source": [
    "airbnb[cat_features] = airbnb[cat_features].fillna(0)"
   ]
  },
  {
   "cell_type": "markdown",
   "metadata": {},
   "source": [
    "En este caso en las variables numericas sustituiremos los NA por la media del conjunto de todos los datos de la variable, y en el caso de las categoricas los NA los vamos a sustituir por 0. "
   ]
  },
  {
   "cell_type": "code",
   "execution_count": 240,
   "metadata": {},
   "outputs": [
    {
     "data": {
      "text/html": [
       "<div>\n",
       "<style scoped>\n",
       "    .dataframe tbody tr th:only-of-type {\n",
       "        vertical-align: middle;\n",
       "    }\n",
       "\n",
       "    .dataframe tbody tr th {\n",
       "        vertical-align: top;\n",
       "    }\n",
       "\n",
       "    .dataframe thead th {\n",
       "        text-align: right;\n",
       "    }\n",
       "</style>\n",
       "<table border=\"1\" class=\"dataframe\">\n",
       "  <thead>\n",
       "    <tr style=\"text-align: right;\">\n",
       "      <th></th>\n",
       "      <th>Experiences Offered_1</th>\n",
       "      <th>Experiences Offered_2</th>\n",
       "      <th>Experiences Offered_3</th>\n",
       "      <th>Experiences Offered_4</th>\n",
       "      <th>Experiences Offered_5</th>\n",
       "      <th>Host Response Time_1</th>\n",
       "      <th>Host Response Time_2</th>\n",
       "      <th>Host Response Time_3</th>\n",
       "      <th>Host Response Time_4</th>\n",
       "      <th>Host Response Time_5</th>\n",
       "      <th>...</th>\n",
       "      <th>Calendar Updated_56</th>\n",
       "      <th>Calendar Updated_57</th>\n",
       "      <th>Cancellation Policy_1</th>\n",
       "      <th>Cancellation Policy_2</th>\n",
       "      <th>Cancellation Policy_3</th>\n",
       "      <th>Cancellation Policy_4</th>\n",
       "      <th>Cancellation Policy_5</th>\n",
       "      <th>Cancellation Policy_6</th>\n",
       "      <th>Cancellation Policy_7</th>\n",
       "      <th>Cancellation Policy_8</th>\n",
       "    </tr>\n",
       "    <tr>\n",
       "      <th>ID</th>\n",
       "      <th></th>\n",
       "      <th></th>\n",
       "      <th></th>\n",
       "      <th></th>\n",
       "      <th></th>\n",
       "      <th></th>\n",
       "      <th></th>\n",
       "      <th></th>\n",
       "      <th></th>\n",
       "      <th></th>\n",
       "      <th></th>\n",
       "      <th></th>\n",
       "      <th></th>\n",
       "      <th></th>\n",
       "      <th></th>\n",
       "      <th></th>\n",
       "      <th></th>\n",
       "      <th></th>\n",
       "      <th></th>\n",
       "      <th></th>\n",
       "      <th></th>\n",
       "    </tr>\n",
       "  </thead>\n",
       "  <tbody>\n",
       "    <tr>\n",
       "      <th>11210388</th>\n",
       "      <td>1</td>\n",
       "      <td>0</td>\n",
       "      <td>0</td>\n",
       "      <td>0</td>\n",
       "      <td>0</td>\n",
       "      <td>1</td>\n",
       "      <td>0</td>\n",
       "      <td>0</td>\n",
       "      <td>0</td>\n",
       "      <td>0</td>\n",
       "      <td>...</td>\n",
       "      <td>0</td>\n",
       "      <td>0</td>\n",
       "      <td>1</td>\n",
       "      <td>0</td>\n",
       "      <td>0</td>\n",
       "      <td>0</td>\n",
       "      <td>0</td>\n",
       "      <td>0</td>\n",
       "      <td>0</td>\n",
       "      <td>0</td>\n",
       "    </tr>\n",
       "    <tr>\n",
       "      <th>17471131</th>\n",
       "      <td>1</td>\n",
       "      <td>0</td>\n",
       "      <td>0</td>\n",
       "      <td>0</td>\n",
       "      <td>0</td>\n",
       "      <td>1</td>\n",
       "      <td>0</td>\n",
       "      <td>0</td>\n",
       "      <td>0</td>\n",
       "      <td>0</td>\n",
       "      <td>...</td>\n",
       "      <td>0</td>\n",
       "      <td>0</td>\n",
       "      <td>0</td>\n",
       "      <td>1</td>\n",
       "      <td>0</td>\n",
       "      <td>0</td>\n",
       "      <td>0</td>\n",
       "      <td>0</td>\n",
       "      <td>0</td>\n",
       "      <td>0</td>\n",
       "    </tr>\n",
       "    <tr>\n",
       "      <th>17584891</th>\n",
       "      <td>1</td>\n",
       "      <td>0</td>\n",
       "      <td>0</td>\n",
       "      <td>0</td>\n",
       "      <td>0</td>\n",
       "      <td>1</td>\n",
       "      <td>0</td>\n",
       "      <td>0</td>\n",
       "      <td>0</td>\n",
       "      <td>0</td>\n",
       "      <td>...</td>\n",
       "      <td>0</td>\n",
       "      <td>0</td>\n",
       "      <td>0</td>\n",
       "      <td>1</td>\n",
       "      <td>0</td>\n",
       "      <td>0</td>\n",
       "      <td>0</td>\n",
       "      <td>0</td>\n",
       "      <td>0</td>\n",
       "      <td>0</td>\n",
       "    </tr>\n",
       "    <tr>\n",
       "      <th>5398030</th>\n",
       "      <td>1</td>\n",
       "      <td>0</td>\n",
       "      <td>0</td>\n",
       "      <td>0</td>\n",
       "      <td>0</td>\n",
       "      <td>1</td>\n",
       "      <td>0</td>\n",
       "      <td>0</td>\n",
       "      <td>0</td>\n",
       "      <td>0</td>\n",
       "      <td>...</td>\n",
       "      <td>0</td>\n",
       "      <td>0</td>\n",
       "      <td>0</td>\n",
       "      <td>0</td>\n",
       "      <td>1</td>\n",
       "      <td>0</td>\n",
       "      <td>0</td>\n",
       "      <td>0</td>\n",
       "      <td>0</td>\n",
       "      <td>0</td>\n",
       "    </tr>\n",
       "    <tr>\n",
       "      <th>18104606</th>\n",
       "      <td>1</td>\n",
       "      <td>0</td>\n",
       "      <td>0</td>\n",
       "      <td>0</td>\n",
       "      <td>0</td>\n",
       "      <td>1</td>\n",
       "      <td>0</td>\n",
       "      <td>0</td>\n",
       "      <td>0</td>\n",
       "      <td>0</td>\n",
       "      <td>...</td>\n",
       "      <td>0</td>\n",
       "      <td>0</td>\n",
       "      <td>0</td>\n",
       "      <td>0</td>\n",
       "      <td>0</td>\n",
       "      <td>1</td>\n",
       "      <td>0</td>\n",
       "      <td>0</td>\n",
       "      <td>0</td>\n",
       "      <td>0</td>\n",
       "    </tr>\n",
       "    <tr>\n",
       "      <th>...</th>\n",
       "      <td>...</td>\n",
       "      <td>...</td>\n",
       "      <td>...</td>\n",
       "      <td>...</td>\n",
       "      <td>...</td>\n",
       "      <td>...</td>\n",
       "      <td>...</td>\n",
       "      <td>...</td>\n",
       "      <td>...</td>\n",
       "      <td>...</td>\n",
       "      <td>...</td>\n",
       "      <td>...</td>\n",
       "      <td>...</td>\n",
       "      <td>...</td>\n",
       "      <td>...</td>\n",
       "      <td>...</td>\n",
       "      <td>...</td>\n",
       "      <td>...</td>\n",
       "      <td>...</td>\n",
       "      <td>...</td>\n",
       "      <td>...</td>\n",
       "    </tr>\n",
       "    <tr>\n",
       "      <th>2098030</th>\n",
       "      <td>1</td>\n",
       "      <td>0</td>\n",
       "      <td>0</td>\n",
       "      <td>0</td>\n",
       "      <td>0</td>\n",
       "      <td>0</td>\n",
       "      <td>0</td>\n",
       "      <td>1</td>\n",
       "      <td>0</td>\n",
       "      <td>0</td>\n",
       "      <td>...</td>\n",
       "      <td>0</td>\n",
       "      <td>0</td>\n",
       "      <td>0</td>\n",
       "      <td>0</td>\n",
       "      <td>1</td>\n",
       "      <td>0</td>\n",
       "      <td>0</td>\n",
       "      <td>0</td>\n",
       "      <td>0</td>\n",
       "      <td>0</td>\n",
       "    </tr>\n",
       "    <tr>\n",
       "      <th>17989442</th>\n",
       "      <td>1</td>\n",
       "      <td>0</td>\n",
       "      <td>0</td>\n",
       "      <td>0</td>\n",
       "      <td>0</td>\n",
       "      <td>0</td>\n",
       "      <td>0</td>\n",
       "      <td>0</td>\n",
       "      <td>1</td>\n",
       "      <td>0</td>\n",
       "      <td>...</td>\n",
       "      <td>0</td>\n",
       "      <td>0</td>\n",
       "      <td>0</td>\n",
       "      <td>0</td>\n",
       "      <td>0</td>\n",
       "      <td>1</td>\n",
       "      <td>0</td>\n",
       "      <td>0</td>\n",
       "      <td>0</td>\n",
       "      <td>0</td>\n",
       "    </tr>\n",
       "    <tr>\n",
       "      <th>13278634</th>\n",
       "      <td>1</td>\n",
       "      <td>0</td>\n",
       "      <td>0</td>\n",
       "      <td>0</td>\n",
       "      <td>0</td>\n",
       "      <td>1</td>\n",
       "      <td>0</td>\n",
       "      <td>0</td>\n",
       "      <td>0</td>\n",
       "      <td>0</td>\n",
       "      <td>...</td>\n",
       "      <td>0</td>\n",
       "      <td>0</td>\n",
       "      <td>0</td>\n",
       "      <td>0</td>\n",
       "      <td>1</td>\n",
       "      <td>0</td>\n",
       "      <td>0</td>\n",
       "      <td>0</td>\n",
       "      <td>0</td>\n",
       "      <td>0</td>\n",
       "    </tr>\n",
       "    <tr>\n",
       "      <th>10733941</th>\n",
       "      <td>1</td>\n",
       "      <td>0</td>\n",
       "      <td>0</td>\n",
       "      <td>0</td>\n",
       "      <td>0</td>\n",
       "      <td>0</td>\n",
       "      <td>0</td>\n",
       "      <td>1</td>\n",
       "      <td>0</td>\n",
       "      <td>0</td>\n",
       "      <td>...</td>\n",
       "      <td>0</td>\n",
       "      <td>0</td>\n",
       "      <td>1</td>\n",
       "      <td>0</td>\n",
       "      <td>0</td>\n",
       "      <td>0</td>\n",
       "      <td>0</td>\n",
       "      <td>0</td>\n",
       "      <td>0</td>\n",
       "      <td>0</td>\n",
       "    </tr>\n",
       "    <tr>\n",
       "      <th>4637801</th>\n",
       "      <td>1</td>\n",
       "      <td>0</td>\n",
       "      <td>0</td>\n",
       "      <td>0</td>\n",
       "      <td>0</td>\n",
       "      <td>1</td>\n",
       "      <td>0</td>\n",
       "      <td>0</td>\n",
       "      <td>0</td>\n",
       "      <td>0</td>\n",
       "      <td>...</td>\n",
       "      <td>0</td>\n",
       "      <td>0</td>\n",
       "      <td>0</td>\n",
       "      <td>0</td>\n",
       "      <td>0</td>\n",
       "      <td>1</td>\n",
       "      <td>0</td>\n",
       "      <td>0</td>\n",
       "      <td>0</td>\n",
       "      <td>0</td>\n",
       "    </tr>\n",
       "  </tbody>\n",
       "</table>\n",
       "<p>14780 rows × 105 columns</p>\n",
       "</div>"
      ],
      "text/plain": [
       "          Experiences Offered_1  Experiences Offered_2  Experiences Offered_3  \\\n",
       "ID                                                                              \n",
       "11210388                      1                      0                      0   \n",
       "17471131                      1                      0                      0   \n",
       "17584891                      1                      0                      0   \n",
       "5398030                       1                      0                      0   \n",
       "18104606                      1                      0                      0   \n",
       "...                         ...                    ...                    ...   \n",
       "2098030                       1                      0                      0   \n",
       "17989442                      1                      0                      0   \n",
       "13278634                      1                      0                      0   \n",
       "10733941                      1                      0                      0   \n",
       "4637801                       1                      0                      0   \n",
       "\n",
       "          Experiences Offered_4  Experiences Offered_5  Host Response Time_1  \\\n",
       "ID                                                                             \n",
       "11210388                      0                      0                     1   \n",
       "17471131                      0                      0                     1   \n",
       "17584891                      0                      0                     1   \n",
       "5398030                       0                      0                     1   \n",
       "18104606                      0                      0                     1   \n",
       "...                         ...                    ...                   ...   \n",
       "2098030                       0                      0                     0   \n",
       "17989442                      0                      0                     0   \n",
       "13278634                      0                      0                     1   \n",
       "10733941                      0                      0                     0   \n",
       "4637801                       0                      0                     1   \n",
       "\n",
       "          Host Response Time_2  Host Response Time_3  Host Response Time_4  \\\n",
       "ID                                                                           \n",
       "11210388                     0                     0                     0   \n",
       "17471131                     0                     0                     0   \n",
       "17584891                     0                     0                     0   \n",
       "5398030                      0                     0                     0   \n",
       "18104606                     0                     0                     0   \n",
       "...                        ...                   ...                   ...   \n",
       "2098030                      0                     1                     0   \n",
       "17989442                     0                     0                     1   \n",
       "13278634                     0                     0                     0   \n",
       "10733941                     0                     1                     0   \n",
       "4637801                      0                     0                     0   \n",
       "\n",
       "          Host Response Time_5  ...  Calendar Updated_56  Calendar Updated_57  \\\n",
       "ID                              ...                                             \n",
       "11210388                     0  ...                    0                    0   \n",
       "17471131                     0  ...                    0                    0   \n",
       "17584891                     0  ...                    0                    0   \n",
       "5398030                      0  ...                    0                    0   \n",
       "18104606                     0  ...                    0                    0   \n",
       "...                        ...  ...                  ...                  ...   \n",
       "2098030                      0  ...                    0                    0   \n",
       "17989442                     0  ...                    0                    0   \n",
       "13278634                     0  ...                    0                    0   \n",
       "10733941                     0  ...                    0                    0   \n",
       "4637801                      0  ...                    0                    0   \n",
       "\n",
       "          Cancellation Policy_1  Cancellation Policy_2  Cancellation Policy_3  \\\n",
       "ID                                                                              \n",
       "11210388                      1                      0                      0   \n",
       "17471131                      0                      1                      0   \n",
       "17584891                      0                      1                      0   \n",
       "5398030                       0                      0                      1   \n",
       "18104606                      0                      0                      0   \n",
       "...                         ...                    ...                    ...   \n",
       "2098030                       0                      0                      1   \n",
       "17989442                      0                      0                      0   \n",
       "13278634                      0                      0                      1   \n",
       "10733941                      1                      0                      0   \n",
       "4637801                       0                      0                      0   \n",
       "\n",
       "          Cancellation Policy_4  Cancellation Policy_5  Cancellation Policy_6  \\\n",
       "ID                                                                              \n",
       "11210388                      0                      0                      0   \n",
       "17471131                      0                      0                      0   \n",
       "17584891                      0                      0                      0   \n",
       "5398030                       0                      0                      0   \n",
       "18104606                      1                      0                      0   \n",
       "...                         ...                    ...                    ...   \n",
       "2098030                       0                      0                      0   \n",
       "17989442                      1                      0                      0   \n",
       "13278634                      0                      0                      0   \n",
       "10733941                      0                      0                      0   \n",
       "4637801                       1                      0                      0   \n",
       "\n",
       "          Cancellation Policy_7  Cancellation Policy_8  \n",
       "ID                                                      \n",
       "11210388                      0                      0  \n",
       "17471131                      0                      0  \n",
       "17584891                      0                      0  \n",
       "5398030                       0                      0  \n",
       "18104606                      0                      0  \n",
       "...                         ...                    ...  \n",
       "2098030                       0                      0  \n",
       "17989442                      0                      0  \n",
       "13278634                      0                      0  \n",
       "10733941                      0                      0  \n",
       "4637801                       0                      0  \n",
       "\n",
       "[14780 rows x 105 columns]"
      ]
     },
     "execution_count": 240,
     "metadata": {},
     "output_type": "execute_result"
    }
   ],
   "source": [
    "from category_encoders.one_hot import OneHotEncoder\n",
    "coder = OneHotEncoder()\n",
    "coder.fit(airbnb[cat_features])\n",
    "Dummies = pd.DataFrame(coder.transform(airbnb[cat_features]))\n",
    "Dummies"
   ]
  },
  {
   "cell_type": "markdown",
   "metadata": {},
   "source": [
    "Como podemos observar en esta tabla al crear las variables dummies, tiene sentido lo que hemos realizado anteriormente ya que no tendria sentido tener numeros con decimales para estas variables categoricas. "
   ]
  },
  {
   "cell_type": "code",
   "execution_count": 241,
   "metadata": {},
   "outputs": [],
   "source": [
    "final=airbnb.join(Dummies)\n",
    "airbnb_ft = final.drop(cat_features, axis = 1)\n"
   ]
  },
  {
   "cell_type": "code",
   "execution_count": 242,
   "metadata": {},
   "outputs": [
    {
     "data": {
      "text/plain": [
       "(14780, 133)"
      ]
     },
     "execution_count": 242,
     "metadata": {},
     "output_type": "execute_result"
    }
   ],
   "source": [
    "airbnb_ft.shape\n"
   ]
  },
  {
   "cell_type": "code",
   "execution_count": 243,
   "metadata": {
    "scrolled": true
   },
   "outputs": [
    {
     "data": {
      "text/html": [
       "<div>\n",
       "<style scoped>\n",
       "    .dataframe tbody tr th:only-of-type {\n",
       "        vertical-align: middle;\n",
       "    }\n",
       "\n",
       "    .dataframe tbody tr th {\n",
       "        vertical-align: top;\n",
       "    }\n",
       "\n",
       "    .dataframe thead th {\n",
       "        text-align: right;\n",
       "    }\n",
       "</style>\n",
       "<table border=\"1\" class=\"dataframe\">\n",
       "  <thead>\n",
       "    <tr style=\"text-align: right;\">\n",
       "      <th></th>\n",
       "      <th>Host Response Rate</th>\n",
       "      <th>Host Listings Count</th>\n",
       "      <th>Host Total Listings Count</th>\n",
       "      <th>Accommodates</th>\n",
       "      <th>Bathrooms</th>\n",
       "      <th>Bedrooms</th>\n",
       "      <th>Beds</th>\n",
       "      <th>Price</th>\n",
       "      <th>Security Deposit</th>\n",
       "      <th>Cleaning Fee</th>\n",
       "      <th>...</th>\n",
       "      <th>Calendar Updated_56</th>\n",
       "      <th>Calendar Updated_57</th>\n",
       "      <th>Cancellation Policy_1</th>\n",
       "      <th>Cancellation Policy_2</th>\n",
       "      <th>Cancellation Policy_3</th>\n",
       "      <th>Cancellation Policy_4</th>\n",
       "      <th>Cancellation Policy_5</th>\n",
       "      <th>Cancellation Policy_6</th>\n",
       "      <th>Cancellation Policy_7</th>\n",
       "      <th>Cancellation Policy_8</th>\n",
       "    </tr>\n",
       "  </thead>\n",
       "  <tbody>\n",
       "    <tr>\n",
       "      <th>count</th>\n",
       "      <td>14780.000000</td>\n",
       "      <td>14780.000000</td>\n",
       "      <td>14780.000000</td>\n",
       "      <td>14780.000000</td>\n",
       "      <td>14780.000000</td>\n",
       "      <td>14780.000000</td>\n",
       "      <td>14780.000000</td>\n",
       "      <td>14780.000000</td>\n",
       "      <td>14780.000000</td>\n",
       "      <td>14780.000000</td>\n",
       "      <td>...</td>\n",
       "      <td>14780.000000</td>\n",
       "      <td>14780.000000</td>\n",
       "      <td>14780.000000</td>\n",
       "      <td>14780.000000</td>\n",
       "      <td>14780.000000</td>\n",
       "      <td>14780.000000</td>\n",
       "      <td>14780.000000</td>\n",
       "      <td>14780.000000</td>\n",
       "      <td>14780.000000</td>\n",
       "      <td>14780.000000</td>\n",
       "    </tr>\n",
       "    <tr>\n",
       "      <th>mean</th>\n",
       "      <td>94.823461</td>\n",
       "      <td>12.513636</td>\n",
       "      <td>12.513636</td>\n",
       "      <td>3.277808</td>\n",
       "      <td>1.281732</td>\n",
       "      <td>1.343816</td>\n",
       "      <td>2.044260</td>\n",
       "      <td>73.561471</td>\n",
       "      <td>189.226822</td>\n",
       "      <td>31.805341</td>\n",
       "      <td>...</td>\n",
       "      <td>0.000068</td>\n",
       "      <td>0.000068</td>\n",
       "      <td>0.287415</td>\n",
       "      <td>0.001286</td>\n",
       "      <td>0.388498</td>\n",
       "      <td>0.316035</td>\n",
       "      <td>0.000947</td>\n",
       "      <td>0.002165</td>\n",
       "      <td>0.002300</td>\n",
       "      <td>0.001353</td>\n",
       "    </tr>\n",
       "    <tr>\n",
       "      <th>std</th>\n",
       "      <td>14.204814</td>\n",
       "      <td>34.086763</td>\n",
       "      <td>34.086763</td>\n",
       "      <td>2.097291</td>\n",
       "      <td>0.657291</td>\n",
       "      <td>0.899317</td>\n",
       "      <td>1.610094</td>\n",
       "      <td>72.020593</td>\n",
       "      <td>74.913332</td>\n",
       "      <td>23.672547</td>\n",
       "      <td>...</td>\n",
       "      <td>0.008226</td>\n",
       "      <td>0.008226</td>\n",
       "      <td>0.452572</td>\n",
       "      <td>0.035832</td>\n",
       "      <td>0.487425</td>\n",
       "      <td>0.464943</td>\n",
       "      <td>0.030763</td>\n",
       "      <td>0.046482</td>\n",
       "      <td>0.047909</td>\n",
       "      <td>0.036762</td>\n",
       "    </tr>\n",
       "    <tr>\n",
       "      <th>min</th>\n",
       "      <td>0.000000</td>\n",
       "      <td>0.000000</td>\n",
       "      <td>0.000000</td>\n",
       "      <td>1.000000</td>\n",
       "      <td>0.000000</td>\n",
       "      <td>0.000000</td>\n",
       "      <td>1.000000</td>\n",
       "      <td>9.000000</td>\n",
       "      <td>0.000000</td>\n",
       "      <td>0.000000</td>\n",
       "      <td>...</td>\n",
       "      <td>0.000000</td>\n",
       "      <td>0.000000</td>\n",
       "      <td>0.000000</td>\n",
       "      <td>0.000000</td>\n",
       "      <td>0.000000</td>\n",
       "      <td>0.000000</td>\n",
       "      <td>0.000000</td>\n",
       "      <td>0.000000</td>\n",
       "      <td>0.000000</td>\n",
       "      <td>0.000000</td>\n",
       "    </tr>\n",
       "    <tr>\n",
       "      <th>25%</th>\n",
       "      <td>94.823461</td>\n",
       "      <td>1.000000</td>\n",
       "      <td>1.000000</td>\n",
       "      <td>2.000000</td>\n",
       "      <td>1.000000</td>\n",
       "      <td>1.000000</td>\n",
       "      <td>1.000000</td>\n",
       "      <td>34.000000</td>\n",
       "      <td>189.226822</td>\n",
       "      <td>20.000000</td>\n",
       "      <td>...</td>\n",
       "      <td>0.000000</td>\n",
       "      <td>0.000000</td>\n",
       "      <td>0.000000</td>\n",
       "      <td>0.000000</td>\n",
       "      <td>0.000000</td>\n",
       "      <td>0.000000</td>\n",
       "      <td>0.000000</td>\n",
       "      <td>0.000000</td>\n",
       "      <td>0.000000</td>\n",
       "      <td>0.000000</td>\n",
       "    </tr>\n",
       "    <tr>\n",
       "      <th>50%</th>\n",
       "      <td>100.000000</td>\n",
       "      <td>2.000000</td>\n",
       "      <td>2.000000</td>\n",
       "      <td>3.000000</td>\n",
       "      <td>1.000000</td>\n",
       "      <td>1.000000</td>\n",
       "      <td>2.000000</td>\n",
       "      <td>55.000000</td>\n",
       "      <td>189.226822</td>\n",
       "      <td>31.805341</td>\n",
       "      <td>...</td>\n",
       "      <td>0.000000</td>\n",
       "      <td>0.000000</td>\n",
       "      <td>0.000000</td>\n",
       "      <td>0.000000</td>\n",
       "      <td>0.000000</td>\n",
       "      <td>0.000000</td>\n",
       "      <td>0.000000</td>\n",
       "      <td>0.000000</td>\n",
       "      <td>0.000000</td>\n",
       "      <td>0.000000</td>\n",
       "    </tr>\n",
       "    <tr>\n",
       "      <th>75%</th>\n",
       "      <td>100.000000</td>\n",
       "      <td>6.000000</td>\n",
       "      <td>6.000000</td>\n",
       "      <td>4.000000</td>\n",
       "      <td>1.000000</td>\n",
       "      <td>2.000000</td>\n",
       "      <td>2.000000</td>\n",
       "      <td>86.000000</td>\n",
       "      <td>189.226822</td>\n",
       "      <td>31.805341</td>\n",
       "      <td>...</td>\n",
       "      <td>0.000000</td>\n",
       "      <td>0.000000</td>\n",
       "      <td>1.000000</td>\n",
       "      <td>0.000000</td>\n",
       "      <td>1.000000</td>\n",
       "      <td>1.000000</td>\n",
       "      <td>0.000000</td>\n",
       "      <td>0.000000</td>\n",
       "      <td>0.000000</td>\n",
       "      <td>0.000000</td>\n",
       "    </tr>\n",
       "    <tr>\n",
       "      <th>max</th>\n",
       "      <td>100.000000</td>\n",
       "      <td>519.000000</td>\n",
       "      <td>519.000000</td>\n",
       "      <td>16.000000</td>\n",
       "      <td>8.000000</td>\n",
       "      <td>10.000000</td>\n",
       "      <td>16.000000</td>\n",
       "      <td>999.000000</td>\n",
       "      <td>990.000000</td>\n",
       "      <td>662.000000</td>\n",
       "      <td>...</td>\n",
       "      <td>1.000000</td>\n",
       "      <td>1.000000</td>\n",
       "      <td>1.000000</td>\n",
       "      <td>1.000000</td>\n",
       "      <td>1.000000</td>\n",
       "      <td>1.000000</td>\n",
       "      <td>1.000000</td>\n",
       "      <td>1.000000</td>\n",
       "      <td>1.000000</td>\n",
       "      <td>1.000000</td>\n",
       "    </tr>\n",
       "  </tbody>\n",
       "</table>\n",
       "<p>8 rows × 133 columns</p>\n",
       "</div>"
      ],
      "text/plain": [
       "       Host Response Rate  Host Listings Count  Host Total Listings Count  \\\n",
       "count        14780.000000         14780.000000               14780.000000   \n",
       "mean            94.823461            12.513636                  12.513636   \n",
       "std             14.204814            34.086763                  34.086763   \n",
       "min              0.000000             0.000000                   0.000000   \n",
       "25%             94.823461             1.000000                   1.000000   \n",
       "50%            100.000000             2.000000                   2.000000   \n",
       "75%            100.000000             6.000000                   6.000000   \n",
       "max            100.000000           519.000000                 519.000000   \n",
       "\n",
       "       Accommodates     Bathrooms      Bedrooms          Beds         Price  \\\n",
       "count  14780.000000  14780.000000  14780.000000  14780.000000  14780.000000   \n",
       "mean       3.277808      1.281732      1.343816      2.044260     73.561471   \n",
       "std        2.097291      0.657291      0.899317      1.610094     72.020593   \n",
       "min        1.000000      0.000000      0.000000      1.000000      9.000000   \n",
       "25%        2.000000      1.000000      1.000000      1.000000     34.000000   \n",
       "50%        3.000000      1.000000      1.000000      2.000000     55.000000   \n",
       "75%        4.000000      1.000000      2.000000      2.000000     86.000000   \n",
       "max       16.000000      8.000000     10.000000     16.000000    999.000000   \n",
       "\n",
       "       Security Deposit  Cleaning Fee  ...  Calendar Updated_56  \\\n",
       "count      14780.000000  14780.000000  ...         14780.000000   \n",
       "mean         189.226822     31.805341  ...             0.000068   \n",
       "std           74.913332     23.672547  ...             0.008226   \n",
       "min            0.000000      0.000000  ...             0.000000   \n",
       "25%          189.226822     20.000000  ...             0.000000   \n",
       "50%          189.226822     31.805341  ...             0.000000   \n",
       "75%          189.226822     31.805341  ...             0.000000   \n",
       "max          990.000000    662.000000  ...             1.000000   \n",
       "\n",
       "       Calendar Updated_57  Cancellation Policy_1  Cancellation Policy_2  \\\n",
       "count         14780.000000           14780.000000           14780.000000   \n",
       "mean              0.000068               0.287415               0.001286   \n",
       "std               0.008226               0.452572               0.035832   \n",
       "min               0.000000               0.000000               0.000000   \n",
       "25%               0.000000               0.000000               0.000000   \n",
       "50%               0.000000               0.000000               0.000000   \n",
       "75%               0.000000               1.000000               0.000000   \n",
       "max               1.000000               1.000000               1.000000   \n",
       "\n",
       "       Cancellation Policy_3  Cancellation Policy_4  Cancellation Policy_5  \\\n",
       "count           14780.000000           14780.000000           14780.000000   \n",
       "mean                0.388498               0.316035               0.000947   \n",
       "std                 0.487425               0.464943               0.030763   \n",
       "min                 0.000000               0.000000               0.000000   \n",
       "25%                 0.000000               0.000000               0.000000   \n",
       "50%                 0.000000               0.000000               0.000000   \n",
       "75%                 1.000000               1.000000               0.000000   \n",
       "max                 1.000000               1.000000               1.000000   \n",
       "\n",
       "       Cancellation Policy_6  Cancellation Policy_7  Cancellation Policy_8  \n",
       "count           14780.000000           14780.000000           14780.000000  \n",
       "mean                0.002165               0.002300               0.001353  \n",
       "std                 0.046482               0.047909               0.036762  \n",
       "min                 0.000000               0.000000               0.000000  \n",
       "25%                 0.000000               0.000000               0.000000  \n",
       "50%                 0.000000               0.000000               0.000000  \n",
       "75%                 0.000000               0.000000               0.000000  \n",
       "max                 1.000000               1.000000               1.000000  \n",
       "\n",
       "[8 rows x 133 columns]"
      ]
     },
     "execution_count": 243,
     "metadata": {},
     "output_type": "execute_result"
    }
   ],
   "source": [
    "airbnb_ft.describe()\n"
   ]
  },
  {
   "cell_type": "code",
   "execution_count": 222,
   "metadata": {},
   "outputs": [
    {
     "ename": "TypeError",
     "evalue": "'float' object cannot be interpreted as an integer",
     "output_type": "error",
     "traceback": [
      "\u001b[1;31m---------------------------------------------------------------------------\u001b[0m",
      "\u001b[1;31mTypeError\u001b[0m                                 Traceback (most recent call last)",
      "\u001b[1;32m<ipython-input-222-fad6ae6b82ff>\u001b[0m in \u001b[0;36m<module>\u001b[1;34m\u001b[0m\n\u001b[0;32m      8\u001b[0m     \u001b[0mcorr\u001b[0m\u001b[1;33m,\u001b[0m\u001b[1;33m\u001b[0m\u001b[1;33m\u001b[0m\u001b[0m\n\u001b[0;32m      9\u001b[0m     \u001b[0mvmin\u001b[0m\u001b[1;33m=\u001b[0m\u001b[1;33m-\u001b[0m\u001b[1;36m1\u001b[0m\u001b[1;33m,\u001b[0m \u001b[0mvmax\u001b[0m\u001b[1;33m=\u001b[0m\u001b[1;36m1\u001b[0m\u001b[1;33m,\u001b[0m \u001b[0mcenter\u001b[0m\u001b[1;33m=\u001b[0m\u001b[1;36m0\u001b[0m\u001b[1;33m,\u001b[0m\u001b[1;33m\u001b[0m\u001b[1;33m\u001b[0m\u001b[0m\n\u001b[1;32m---> 10\u001b[1;33m     \u001b[0mcmap\u001b[0m\u001b[1;33m=\u001b[0m\u001b[0msns\u001b[0m\u001b[1;33m.\u001b[0m\u001b[0mdiverging_palette\u001b[0m\u001b[1;33m(\u001b[0m\u001b[1;36m20\u001b[0m\u001b[1;33m,\u001b[0m \u001b[1;36m220\u001b[0m\u001b[1;33m,\u001b[0m \u001b[0mn\u001b[0m\u001b[1;33m=\u001b[0m\u001b[1;36m200\u001b[0m\u001b[1;33m)\u001b[0m\u001b[1;33m,\u001b[0m\u001b[1;33m\u001b[0m\u001b[1;33m\u001b[0m\u001b[0m\n\u001b[0m\u001b[0;32m     11\u001b[0m     \u001b[0msquare\u001b[0m\u001b[1;33m=\u001b[0m\u001b[1;32mTrue\u001b[0m\u001b[1;33m\u001b[0m\u001b[1;33m\u001b[0m\u001b[0m\n\u001b[0;32m     12\u001b[0m )\n",
      "\u001b[1;32m~\\Anaconda3\\lib\\site-packages\\seaborn\\palettes.py\u001b[0m in \u001b[0;36mdiverging_palette\u001b[1;34m(h_neg, h_pos, s, l, sep, n, center, as_cmap)\u001b[0m\n\u001b[0;32m    742\u001b[0m         \u001b[1;34m\"green\"\u001b[0m\u001b[1;33m:\u001b[0m \u001b[0mget_color_function\u001b[0m\u001b[1;33m(\u001b[0m\u001b[1;33m-\u001b[0m\u001b[1;36m0.29227\u001b[0m\u001b[1;33m,\u001b[0m \u001b[1;33m-\u001b[0m\u001b[1;36m0.90649\u001b[0m\u001b[1;33m)\u001b[0m\u001b[1;33m,\u001b[0m\u001b[1;33m\u001b[0m\u001b[1;33m\u001b[0m\u001b[0m\n\u001b[0;32m    743\u001b[0m         \u001b[1;34m\"blue\"\u001b[0m\u001b[1;33m:\u001b[0m \u001b[0mget_color_function\u001b[0m\u001b[1;33m(\u001b[0m\u001b[1;36m1.97294\u001b[0m\u001b[1;33m,\u001b[0m \u001b[1;36m0.0\u001b[0m\u001b[1;33m)\u001b[0m\u001b[1;33m,\u001b[0m\u001b[1;33m\u001b[0m\u001b[1;33m\u001b[0m\u001b[0m\n\u001b[1;32m--> 744\u001b[1;33m     }\n\u001b[0m\u001b[0;32m    745\u001b[0m \u001b[1;33m\u001b[0m\u001b[0m\n\u001b[0;32m    746\u001b[0m     \u001b[0mcmap\u001b[0m \u001b[1;33m=\u001b[0m \u001b[0mmpl\u001b[0m\u001b[1;33m.\u001b[0m\u001b[0mcolors\u001b[0m\u001b[1;33m.\u001b[0m\u001b[0mLinearSegmentedColormap\u001b[0m\u001b[1;33m(\u001b[0m\u001b[1;34m\"cubehelix\"\u001b[0m\u001b[1;33m,\u001b[0m \u001b[0mcdict\u001b[0m\u001b[1;33m)\u001b[0m\u001b[1;33m\u001b[0m\u001b[1;33m\u001b[0m\u001b[0m\n",
      "\u001b[1;32m~\\Anaconda3\\lib\\site-packages\\seaborn\\palettes.py\u001b[0m in \u001b[0;36mlight_palette\u001b[1;34m(color, n_colors, reverse, as_cmap, input)\u001b[0m\n\u001b[0;32m    639\u001b[0m     \"\"\"Make a palette with color names from Crayola crayons.\n\u001b[0;32m    640\u001b[0m \u001b[1;33m\u001b[0m\u001b[0m\n\u001b[1;32m--> 641\u001b[1;33m     \u001b[0mColors\u001b[0m \u001b[0mare\u001b[0m \u001b[0mtaken\u001b[0m \u001b[1;32mfrom\u001b[0m \u001b[0mhere\u001b[0m\u001b[1;33m:\u001b[0m\u001b[1;33m\u001b[0m\u001b[1;33m\u001b[0m\u001b[0m\n\u001b[0m\u001b[0;32m    642\u001b[0m     \u001b[0mhttps\u001b[0m\u001b[1;33m:\u001b[0m\u001b[1;33m//\u001b[0m\u001b[0men\u001b[0m\u001b[1;33m.\u001b[0m\u001b[0mwikipedia\u001b[0m\u001b[1;33m.\u001b[0m\u001b[0morg\u001b[0m\u001b[1;33m/\u001b[0m\u001b[0mwiki\u001b[0m\u001b[1;33m/\u001b[0m\u001b[0mList_of_Crayola_crayon_colors\u001b[0m\u001b[1;33m\u001b[0m\u001b[1;33m\u001b[0m\u001b[0m\n\u001b[0;32m    643\u001b[0m \u001b[1;33m\u001b[0m\u001b[0m\n",
      "\u001b[1;32m~\\Anaconda3\\lib\\site-packages\\seaborn\\palettes.py\u001b[0m in \u001b[0;36mblend_palette\u001b[1;34m(colors, n_colors, as_cmap, input)\u001b[0m\n\u001b[0;32m    775\u001b[0m \u001b[1;33m\u001b[0m\u001b[0m\n\u001b[0;32m    776\u001b[0m     \u001b[1;32mif\u001b[0m \u001b[1;32mnot\u001b[0m \u001b[0margstr\u001b[0m\u001b[1;33m:\u001b[0m\u001b[1;33m\u001b[0m\u001b[1;33m\u001b[0m\u001b[0m\n\u001b[1;32m--> 777\u001b[1;33m         \u001b[1;32mreturn\u001b[0m \u001b[1;33m[\u001b[0m\u001b[1;33m]\u001b[0m\u001b[1;33m,\u001b[0m \u001b[1;33m{\u001b[0m\u001b[1;34m\"reverse\"\u001b[0m\u001b[1;33m:\u001b[0m \u001b[0mreverse\u001b[0m\u001b[1;33m}\u001b[0m\u001b[1;33m\u001b[0m\u001b[1;33m\u001b[0m\u001b[0m\n\u001b[0m\u001b[0;32m    778\u001b[0m \u001b[1;33m\u001b[0m\u001b[0m\n\u001b[0;32m    779\u001b[0m     \u001b[0mall_args\u001b[0m \u001b[1;33m=\u001b[0m \u001b[0margstr\u001b[0m\u001b[1;33m.\u001b[0m\u001b[0msplit\u001b[0m\u001b[1;33m(\u001b[0m\u001b[1;34m\",\"\u001b[0m\u001b[1;33m)\u001b[0m\u001b[1;33m\u001b[0m\u001b[1;33m\u001b[0m\u001b[0m\n",
      "\u001b[1;32m<__array_function__ internals>\u001b[0m in \u001b[0;36mlinspace\u001b[1;34m(*args, **kwargs)\u001b[0m\n",
      "\u001b[1;32m~\\Anaconda3\\lib\\site-packages\\numpy\\core\\function_base.py\u001b[0m in \u001b[0;36mlinspace\u001b[1;34m(start, stop, num, endpoint, retstep, dtype, axis)\u001b[0m\n\u001b[0;32m    118\u001b[0m \u001b[1;33m\u001b[0m\u001b[0m\n\u001b[0;32m    119\u001b[0m     \"\"\"\n\u001b[1;32m--> 120\u001b[1;33m     \u001b[0mnum\u001b[0m \u001b[1;33m=\u001b[0m \u001b[0moperator\u001b[0m\u001b[1;33m.\u001b[0m\u001b[0mindex\u001b[0m\u001b[1;33m(\u001b[0m\u001b[0mnum\u001b[0m\u001b[1;33m)\u001b[0m\u001b[1;33m\u001b[0m\u001b[1;33m\u001b[0m\u001b[0m\n\u001b[0m\u001b[0;32m    121\u001b[0m     \u001b[1;32mif\u001b[0m \u001b[0mnum\u001b[0m \u001b[1;33m<\u001b[0m \u001b[1;36m0\u001b[0m\u001b[1;33m:\u001b[0m\u001b[1;33m\u001b[0m\u001b[1;33m\u001b[0m\u001b[0m\n\u001b[0;32m    122\u001b[0m         \u001b[1;32mraise\u001b[0m \u001b[0mValueError\u001b[0m\u001b[1;33m(\u001b[0m\u001b[1;34m\"Number of samples, %s, must be non-negative.\"\u001b[0m \u001b[1;33m%\u001b[0m \u001b[0mnum\u001b[0m\u001b[1;33m)\u001b[0m\u001b[1;33m\u001b[0m\u001b[1;33m\u001b[0m\u001b[0m\n",
      "\u001b[1;31mTypeError\u001b[0m: 'float' object cannot be interpreted as an integer"
     ]
    }
   ],
   "source": [
    "#Correlation = airbnb_ft.drop(['Price'], axis = 1)\n",
    "\n",
    "#sns.set(rc = {'figure.figsize':(20,20)})\n",
    "\n",
    "\n",
    "#corr = Correlation.corr()\n",
    "#ax = sns.heatmap(\n",
    "#    corr, \n",
    "#    vmin=-1, vmax=1, center=0,\n",
    "#    cmap=sns.diverging_palette(20, 220, n=200),\n",
    "#    square=True\n",
    "#)\n",
    "#ax.set_xticklabels(\n",
    "#    ax.get_xticklabels(),\n",
    "#    rotation=45,\n",
    "#    horizontalalignment='right'\n",
    "#);"
   ]
  },
  {
   "cell_type": "code",
   "execution_count": 220,
   "metadata": {},
   "outputs": [],
   "source": [
    "## Aquí hemos tenido un error a la hora de graficar las correlaciones y no hemos sabido solucionarlo. "
   ]
  },
  {
   "cell_type": "code",
   "execution_count": 244,
   "metadata": {},
   "outputs": [],
   "source": [
    "airbnb_ft = airbnb_ft.drop(['Availability 30','Availability 60','Host Listings Count'], axis = 1)\n"
   ]
  },
  {
   "cell_type": "code",
   "execution_count": 245,
   "metadata": {},
   "outputs": [
    {
     "data": {
      "text/plain": [
       "(14780, 130)"
      ]
     },
     "execution_count": 245,
     "metadata": {},
     "output_type": "execute_result"
    }
   ],
   "source": [
    "airbnb_ft.shape"
   ]
  },
  {
   "cell_type": "code",
   "execution_count": 246,
   "metadata": {},
   "outputs": [
    {
     "data": {
      "text/plain": [
       "Text(0.5, 0, 'Precio')"
      ]
     },
     "execution_count": 246,
     "metadata": {},
     "output_type": "execute_result"
    },
    {
     "data": {
      "image/png": "[encoded data removed]",
      "text/plain": [
       "<Figure size 432x216 with 1 Axes>"
      ]
     },
     "metadata": {
      "needs_background": "light"
     },
     "output_type": "display_data"
    }
   ],
   "source": [
    "import matplotlib.pyplot as plt\n",
    "import seaborn as sns\n",
    "\n",
    "fig, ax = plt.subplots(nrows=1, ncols=1, figsize=(6, 3))\n",
    "sns.distplot(airbnb_ft['Price'], kde=True, ax=ax)\n",
    "ax.set_title(\"Distribución Precio\")\n",
    "ax.set_xlabel('Precio')\n",
    "\n",
    "\n"
   ]
  },
  {
   "cell_type": "markdown",
   "metadata": {},
   "source": [
    "Este gráfico nos muestra las distribuciones de los precios de los diferentes AirBnb. Podemos observar un alto pico entre los 100 y los 200 euros. Teniendo como máximo los 1000."
   ]
  },
  {
   "cell_type": "code",
   "execution_count": 247,
   "metadata": {},
   "outputs": [
    {
     "data": {
      "image/png": "[encoded data removed]",
      "text/plain": [
       "<Figure size 432x288 with 30 Axes>"
      ]
     },
     "metadata": {
      "needs_background": "light"
     },
     "output_type": "display_data"
    }
   ],
   "source": [
    "airbnb.hist()\n",
    "plt.show()\n"
   ]
  },
  {
   "cell_type": "markdown",
   "metadata": {},
   "source": [
    "En este gráfico podemos observar como se distribuyen todas las variables. Esto nos da una idea general sobre su distribución en su media y los valores mas cómunes. Ademas podemos observar tambien las Reviews por mes, las camas, el número de habitaciones o de baños. "
   ]
  },
  {
   "cell_type": "code",
   "execution_count": 248,
   "metadata": {},
   "outputs": [
    {
     "data": {
      "text/plain": [
       "count    14780.000000\n",
       "mean        73.561471\n",
       "std         72.020593\n",
       "min          9.000000\n",
       "25%         34.000000\n",
       "50%         55.000000\n",
       "75%         86.000000\n",
       "max        999.000000\n",
       "Name: Price, dtype: float64"
      ]
     },
     "execution_count": 248,
     "metadata": {},
     "output_type": "execute_result"
    }
   ],
   "source": [
    "airbnb_ft['Price'].describe()\n"
   ]
  },
  {
   "cell_type": "code",
   "execution_count": 253,
   "metadata": {},
   "outputs": [
    {
     "name": "stderr",
     "output_type": "stream",
     "text": [
      "C:\\Users\\Fernando\\Anaconda3\\lib\\site-packages\\ipykernel_launcher.py:1: UserWarning: Boolean Series key will be reindexed to match DataFrame index.\n",
      "  \"\"\"Entry point for launching an IPython kernel.\n"
     ]
    }
   ],
   "source": [
    "airbnb_ft = airbnb_ft[(airbnb['Price'] <= 150)]\n"
   ]
  },
  {
   "cell_type": "markdown",
   "metadata": {},
   "source": [
    "Nos quedamos con los valores de precio menores de 150, ya que lo superiores los vamos a considerar outliers \n",
    "y nos dara falsos resultados el estudio.\n"
   ]
  },
  {
   "cell_type": "markdown",
   "metadata": {},
   "source": [
    "# MODELOS"
   ]
  },
  {
   "cell_type": "markdown",
   "metadata": {},
   "source": [
    "Separación y entrenamiento"
   ]
  },
  {
   "cell_type": "code",
   "execution_count": 254,
   "metadata": {},
   "outputs": [],
   "source": [
    "from sklearn.model_selection import train_test_split\n",
    "\n",
    "\n",
    "Air_train, Air_test = train_test_split(airbnb_ft, test_size = 0.3, stratify = airbnb_ft[\"Price\"])"
   ]
  },
  {
   "cell_type": "code",
   "execution_count": 255,
   "metadata": {},
   "outputs": [],
   "source": [
    "from sklearn.preprocessing import StandardScaler\n",
    "\n",
    "std_scaler = StandardScaler()\n",
    "train_scaler = std_scaler.fit(Air_train)\n",
    "\n",
    "\n",
    "std_scaler\n",
    "\n",
    "Air_train_normalized = pd.DataFrame(std_scaler.fit_transform(Air_train.values), columns=Air_train.columns)"
   ]
  },
  {
   "cell_type": "code",
   "execution_count": 256,
   "metadata": {},
   "outputs": [],
   "source": [
    "Air_train_normalized = pd.DataFrame(Air_train_normalized, index=Air_train.index, columns=Air_train.columns)\n"
   ]
  },
  {
   "cell_type": "code",
   "execution_count": 257,
   "metadata": {},
   "outputs": [],
   "source": [
    "X_norm = np.array(Air_train_normalized.drop(['Price'],axis = 1))\n",
    "X = np.array(Air_train.drop(['Price'],axis = 1))\n",
    "\n",
    "\n",
    "y = np.array(Air_train['Price']) "
   ]
  },
  {
   "cell_type": "code",
   "execution_count": 258,
   "metadata": {},
   "outputs": [
    {
     "name": "stderr",
     "output_type": "stream",
     "text": [
      "C:\\Users\\Fernando\\Anaconda3\\lib\\site-packages\\sklearn\\base.py:444: UserWarning: X has feature names, but StandardScaler was fitted without feature names\n",
      "  f\"X has feature names, but {self.__class__.__name__} was fitted without\"\n"
     ]
    }
   ],
   "source": [
    "from sklearn.preprocessing import StandardScaler\n",
    "\n",
    "Airbnb_test_normalized = pd.DataFrame(std_scaler.transform(Air_test), columns=Air_test.columns)"
   ]
  },
  {
   "cell_type": "code",
   "execution_count": 259,
   "metadata": {},
   "outputs": [],
   "source": [
    "Airbnb_test_normalized = pd.DataFrame(Airbnb_test_normalized, index=Air_test.index, columns=Air_test.columns)\n"
   ]
  },
  {
   "cell_type": "code",
   "execution_count": 260,
   "metadata": {},
   "outputs": [],
   "source": [
    "test_x_norm = np.array(Airbnb_test_normalized.drop(['Price'],axis = 1))\n",
    "test_x = np.array(Air_test.drop(['Price'],axis = 1))\n",
    "\n",
    "\n",
    "#test_y = np.array(Airbnb_test_normalized['Price'])\n",
    "test_y = np.array(Air_test['Price'])"
   ]
  },
  {
   "cell_type": "markdown",
   "metadata": {},
   "source": [
    "Cuando tratamos de predecir resultados utilizando diferentes modelos, queremos determinar cuál de ellos tiene el menor Mean Squared Error (MSE). El MSE es una métrica que mide la diferencia entre los valores predichos y los valores reales al cuadrado, promediados.\n",
    "\n",
    "Para optimizar los modelos, vamos a calibrarlos, lo cual implica corregir las desviaciones de la curva de calibrado del modelo en relación a una línea diagonal que se considera perfectamente calibrada. Para lograr esto, podemos utilizar un segundo modelo que aprenda a realizar la corrección. Los modelos más utilizados para esta corrección son la regresión logística  o la regresión isotónica. Sin embargo, la regresión isotónica se recomienda principalmente cuando se tienen más de 1000 observaciones, ya que existe un mayor riesgo de sobreajuste.\n",
    "\n",
    "Es importante destacar que el modelo correctivo no debe entrenarse con los mismos datos utilizados para entrenar el modelo principal, ya que esto podría provocar sobreajuste. En su lugar, se debe utilizar un conjunto de validación o validación cruzada para entrenar el modelo correctivo.\n",
    "\n",
    "En resumen, queremos comparar los modelos en términos de MSE para determinar cuál es el mejor. Para mejorar el rendimiento de los modelos, vamos a calibrarlos utilizando un segundo modelo que aprenda a corregir las desviaciones de la curva de calibrado. El modelo correctivo se entrena con un conjunto de validación o validación cruzada diferente al utilizado para entrenar el modelo principal, con el objetivo de evitar el sobreajuste."
   ]
  },
  {
   "cell_type": "markdown",
   "metadata": {},
   "source": [
    "# Regresión lineal"
   ]
  },
  {
   "cell_type": "markdown",
   "metadata": {},
   "source": [
    "Entrenamiento"
   ]
  },
  {
   "cell_type": "code",
   "execution_count": 261,
   "metadata": {},
   "outputs": [],
   "source": [
    "lr = linear_model.LinearRegression(normalize=False)\n"
   ]
  },
  {
   "cell_type": "code",
   "execution_count": 262,
   "metadata": {},
   "outputs": [
    {
     "name": "stderr",
     "output_type": "stream",
     "text": [
      "C:\\Users\\Fernando\\Anaconda3\\lib\\site-packages\\sklearn\\linear_model\\_base.py:155: FutureWarning: 'normalize' was deprecated in version 1.0 and will be removed in 1.2. Please leave the normalize parameter to its default value to silence this warning. The default behavior of this estimator is to not do any normalization. If normalization is needed please use sklearn.preprocessing.StandardScaler instead.\n",
      "  FutureWarning,\n"
     ]
    },
    {
     "data": {
      "text/plain": [
       "LinearRegression(normalize=False)"
      ]
     },
     "execution_count": 262,
     "metadata": {},
     "output_type": "execute_result"
    }
   ],
   "source": [
    "lr.fit(X,y)\n"
   ]
  },
  {
   "cell_type": "code",
   "execution_count": 263,
   "metadata": {},
   "outputs": [
    {
     "data": {
      "text/plain": [
       "0.5929758216037688"
      ]
     },
     "execution_count": 263,
     "metadata": {},
     "output_type": "execute_result"
    }
   ],
   "source": [
    "lr.score(X,y)\n"
   ]
  },
  {
   "cell_type": "markdown",
   "metadata": {},
   "source": [
    "Evaluación"
   ]
  },
  {
   "cell_type": "code",
   "execution_count": 264,
   "metadata": {},
   "outputs": [],
   "source": [
    "predictions = lr.predict(test_x)\n"
   ]
  },
  {
   "cell_type": "code",
   "execution_count": 265,
   "metadata": {},
   "outputs": [
    {
     "data": {
      "text/plain": [
       "0.5831750779482491"
      ]
     },
     "execution_count": 265,
     "metadata": {},
     "output_type": "execute_result"
    }
   ],
   "source": [
    "R_2 = lr.score(test_x,test_y)\n",
    "R_2"
   ]
  },
  {
   "cell_type": "code",
   "execution_count": 266,
   "metadata": {},
   "outputs": [
    {
     "data": {
      "text/plain": [
       "ID\n",
       "9851949     89.0\n",
       "10968489    79.0\n",
       "16120196    50.0\n",
       "3010319     80.0\n",
       "9477197     71.0\n",
       "            ... \n",
       "17859877    30.0\n",
       "948141      99.0\n",
       "7067111     50.0\n",
       "3976842     39.0\n",
       "13320289    19.0\n",
       "Name: Price, Length: 3698, dtype: float64"
      ]
     },
     "execution_count": 266,
     "metadata": {},
     "output_type": "execute_result"
    }
   ],
   "source": [
    "predicted_data_norm = Airbnb_test_normalized.copy()\n",
    "predicted_data_norm['Price'] = predictions\n",
    "predicted_data_unorm = pd.DataFrame(index=predicted_data_norm.index, \n",
    "                                    columns=predicted_data_norm.columns, \n",
    "                                    data=train_scaler.inverse_transform(predicted_data_norm))\n",
    "predicted_data_unorm['predicted_price'] = predicted_data_unorm['Price']\n",
    "predicted_data_unorm['Price'] = Air_test['Price']\n",
    "predicted_data_unorm['Price']"
   ]
  },
  {
   "cell_type": "code",
   "execution_count": 267,
   "metadata": {},
   "outputs": [
    {
     "data": {
      "text/html": [
       "<div>\n",
       "<style scoped>\n",
       "    .dataframe tbody tr th:only-of-type {\n",
       "        vertical-align: middle;\n",
       "    }\n",
       "\n",
       "    .dataframe tbody tr th {\n",
       "        vertical-align: top;\n",
       "    }\n",
       "\n",
       "    .dataframe thead th {\n",
       "        text-align: right;\n",
       "    }\n",
       "</style>\n",
       "<table border=\"1\" class=\"dataframe\">\n",
       "  <thead>\n",
       "    <tr style=\"text-align: right;\">\n",
       "      <th></th>\n",
       "      <th>Price</th>\n",
       "      <th>predicted_price</th>\n",
       "    </tr>\n",
       "    <tr>\n",
       "      <th>ID</th>\n",
       "      <th></th>\n",
       "      <th></th>\n",
       "    </tr>\n",
       "  </thead>\n",
       "  <tbody>\n",
       "    <tr>\n",
       "      <th>9851949</th>\n",
       "      <td>89.0</td>\n",
       "      <td>1838.818436</td>\n",
       "    </tr>\n",
       "    <tr>\n",
       "      <th>10968489</th>\n",
       "      <td>79.0</td>\n",
       "      <td>1733.282048</td>\n",
       "    </tr>\n",
       "    <tr>\n",
       "      <th>16120196</th>\n",
       "      <td>50.0</td>\n",
       "      <td>1077.661990</td>\n",
       "    </tr>\n",
       "  </tbody>\n",
       "</table>\n",
       "</div>"
      ],
      "text/plain": [
       "          Price  predicted_price\n",
       "ID                              \n",
       "9851949    89.0      1838.818436\n",
       "10968489   79.0      1733.282048\n",
       "16120196   50.0      1077.661990"
      ]
     },
     "execution_count": 267,
     "metadata": {},
     "output_type": "execute_result"
    }
   ],
   "source": [
    "predicted_data_unorm[['Price','predicted_price']].head(3)\n"
   ]
  },
  {
   "cell_type": "code",
   "execution_count": 268,
   "metadata": {},
   "outputs": [],
   "source": [
    "rmse_linear = np.sqrt(((predicted_data_unorm['Price'] - predicted_data_unorm['predicted_price'])**2).mean())\n"
   ]
  },
  {
   "cell_type": "code",
   "execution_count": 269,
   "metadata": {},
   "outputs": [
    {
     "data": {
      "text/plain": [
       "1298.0091970228107"
      ]
     },
     "execution_count": 269,
     "metadata": {},
     "output_type": "execute_result"
    }
   ],
   "source": [
    "rmse_linear\n"
   ]
  },
  {
   "cell_type": "code",
   "execution_count": 270,
   "metadata": {},
   "outputs": [
    {
     "data": {
      "text/plain": [
       "1298.0091970228118"
      ]
     },
     "execution_count": 270,
     "metadata": {},
     "output_type": "execute_result"
    }
   ],
   "source": [
    "from sklearn.metrics import mean_squared_error\n",
    "mean_squared_error(predicted_data_unorm['Price'], predicted_data_unorm['predicted_price'], squared=False)"
   ]
  },
  {
   "cell_type": "code",
   "execution_count": 271,
   "metadata": {},
   "outputs": [
    {
     "data": {
      "text/plain": [
       "2717.36"
      ]
     },
     "execution_count": 271,
     "metadata": {},
     "output_type": "execute_result"
    }
   ],
   "source": [
    "lr_error = round(np.mean(100*np.sqrt((predicted_data_unorm['Price'] - predicted_data_unorm['predicted_price'])**2)/predicted_data_unorm['Price']),2)\n",
    "lr_error"
   ]
  },
  {
   "cell_type": "code",
   "execution_count": 272,
   "metadata": {},
   "outputs": [
    {
     "data": {
      "text/plain": [
       "dict_keys(['copy_X', 'fit_intercept', 'n_jobs', 'normalize', 'positive'])"
      ]
     },
     "execution_count": 272,
     "metadata": {},
     "output_type": "execute_result"
    }
   ],
   "source": [
    "lr.get_params().keys()\n"
   ]
  },
  {
   "cell_type": "markdown",
   "metadata": {},
   "source": [
    "# Gradient Boost"
   ]
  },
  {
   "cell_type": "code",
   "execution_count": 273,
   "metadata": {},
   "outputs": [],
   "source": [
    "from sklearn.ensemble import GradientBoostingRegressor\n"
   ]
  },
  {
   "cell_type": "code",
   "execution_count": 274,
   "metadata": {},
   "outputs": [
    {
     "data": {
      "text/plain": [
       "0.6863489830294989"
      ]
     },
     "execution_count": 274,
     "metadata": {},
     "output_type": "execute_result"
    }
   ],
   "source": [
    "boost = GradientBoostingRegressor()\n",
    "boost.fit(X, y)\n",
    "boost.score(X, y)"
   ]
  },
  {
   "cell_type": "code",
   "execution_count": 275,
   "metadata": {},
   "outputs": [
    {
     "data": {
      "text/plain": [
       "0.6517381603543673"
      ]
     },
     "execution_count": 275,
     "metadata": {},
     "output_type": "execute_result"
    }
   ],
   "source": [
    "boost.score(test_x, test_y)\n"
   ]
  },
  {
   "cell_type": "code",
   "execution_count": 276,
   "metadata": {},
   "outputs": [],
   "source": [
    "rmse_gboost = mean_squared_error(test_y, \n",
    "                                 boost.predict(test_x), squared=False)"
   ]
  },
  {
   "cell_type": "code",
   "execution_count": 277,
   "metadata": {},
   "outputs": [
    {
     "data": {
      "text/plain": [
       "14.220212935277374"
      ]
     },
     "execution_count": 277,
     "metadata": {},
     "output_type": "execute_result"
    }
   ],
   "source": [
    "rmse_gboost\n"
   ]
  },
  {
   "cell_type": "code",
   "execution_count": 278,
   "metadata": {},
   "outputs": [
    {
     "data": {
      "text/plain": [
       "25.84"
      ]
     },
     "execution_count": 278,
     "metadata": {},
     "output_type": "execute_result"
    }
   ],
   "source": [
    "gboost_error = round(np.mean(100*np.sqrt((test_y - boost.predict(test_x))**2)/test_y),2)\n",
    "gboost_error"
   ]
  },
  {
   "cell_type": "code",
   "execution_count": 279,
   "metadata": {},
   "outputs": [
    {
     "data": {
      "text/plain": [
       "array([8.66696249e-04, 1.34327688e-02, 7.60499028e-02, 1.20001699e-02,\n",
       "       1.11424928e-02, 4.67046221e-03, 1.20771438e-02, 3.82557471e-02,\n",
       "       1.36650617e-02, 3.28811091e-02, 6.50825923e-03, 1.83188993e-03,\n",
       "       9.41785971e-03, 3.94000031e-03, 1.33831526e-03, 7.20625280e-03,\n",
       "       3.73179485e-03, 1.39722198e-03, 1.20842486e-04, 1.28244327e-04,\n",
       "       2.67148336e-02, 4.94320288e-04, 4.81152637e-03, 1.07069774e-02,\n",
       "       0.00000000e+00, 0.00000000e+00, 0.00000000e+00, 0.00000000e+00,\n",
       "       0.00000000e+00, 1.00564979e-04, 6.11491190e-05, 1.15496251e-04,\n",
       "       4.07670782e-03, 0.00000000e+00, 6.06500986e-04, 0.00000000e+00,\n",
       "       1.50769728e-04, 0.00000000e+00, 0.00000000e+00, 3.29145152e-05,\n",
       "       0.00000000e+00, 4.88219395e-04, 0.00000000e+00, 3.57257448e-04,\n",
       "       9.26099773e-05, 0.00000000e+00, 0.00000000e+00, 0.00000000e+00,\n",
       "       0.00000000e+00, 4.12259806e-04, 3.09367992e-04, 0.00000000e+00,\n",
       "       0.00000000e+00, 0.00000000e+00, 0.00000000e+00, 0.00000000e+00,\n",
       "       6.89481026e-01, 3.08801250e-04, 2.30619119e-03, 9.93530047e-04,\n",
       "       0.00000000e+00, 0.00000000e+00, 0.00000000e+00, 0.00000000e+00,\n",
       "       1.37437008e-04, 8.23901356e-05, 0.00000000e+00, 0.00000000e+00,\n",
       "       0.00000000e+00, 2.01632825e-04, 0.00000000e+00, 0.00000000e+00,\n",
       "       4.75872244e-04, 3.46205807e-04, 0.00000000e+00, 0.00000000e+00,\n",
       "       0.00000000e+00, 1.30750700e-04, 2.38723843e-04, 0.00000000e+00,\n",
       "       0.00000000e+00, 4.06747543e-05, 0.00000000e+00, 0.00000000e+00,\n",
       "       0.00000000e+00, 0.00000000e+00, 1.69081312e-04, 0.00000000e+00,\n",
       "       0.00000000e+00, 0.00000000e+00, 0.00000000e+00, 0.00000000e+00,\n",
       "       0.00000000e+00, 0.00000000e+00, 1.86622918e-04, 4.31991508e-04,\n",
       "       0.00000000e+00, 6.52136129e-05, 0.00000000e+00, 1.99738190e-04,\n",
       "       0.00000000e+00, 0.00000000e+00, 0.00000000e+00, 0.00000000e+00,\n",
       "       0.00000000e+00, 0.00000000e+00, 0.00000000e+00, 3.58945857e-04,\n",
       "       4.70911920e-04, 0.00000000e+00, 0.00000000e+00, 0.00000000e+00,\n",
       "       0.00000000e+00, 0.00000000e+00, 0.00000000e+00, 0.00000000e+00,\n",
       "       0.00000000e+00, 0.00000000e+00, 0.00000000e+00, 0.00000000e+00,\n",
       "       0.00000000e+00, 7.18694445e-04, 0.00000000e+00, 8.14887226e-04,\n",
       "       1.30232537e-03, 0.00000000e+00, 0.00000000e+00, 0.00000000e+00,\n",
       "       3.44640157e-04])"
      ]
     },
     "execution_count": 279,
     "metadata": {},
     "output_type": "execute_result"
    }
   ],
   "source": [
    "boost.feature_importances_\n"
   ]
  },
  {
   "cell_type": "code",
   "execution_count": 280,
   "metadata": {},
   "outputs": [],
   "source": [
    "features = [(a,b) for a,b in zip(Air_train.columns, boost.feature_importances_)]\n"
   ]
  },
  {
   "cell_type": "code",
   "execution_count": 281,
   "metadata": {},
   "outputs": [],
   "source": [
    "features = sorted(features, key= lambda c:c[1], reverse=True)\n"
   ]
  },
  {
   "cell_type": "code",
   "execution_count": 282,
   "metadata": {},
   "outputs": [
    {
     "data": {
      "text/plain": [
       "[('Property Type_22', 0.6894810264061247),\n",
       " ('Accommodates', 0.07604990282899825),\n",
       " ('Security Deposit', 0.038255747142254055),\n",
       " ('Guests Included', 0.03288110914315789),\n",
       " ('Review Scores Communication', 0.026714833619704427),\n",
       " ('Cleaning Fee', 0.013665061685402675),\n",
       " ('Host Total Listings Count', 0.013432768822594577),\n",
       " ('Price', 0.012077143824269365),\n",
       " ('Bathrooms', 0.012000169936420247),\n",
       " ('Bedrooms', 0.01114249279925598),\n",
       " ('Calculated host listings count', 0.010706977448486),\n",
       " ('Maximum Nights', 0.009417859706593168),\n",
       " ('Number of Reviews', 0.007206252803730259),\n",
       " ('Extra People', 0.006508259234036877),\n",
       " ('Review Scores Value', 0.004811526365938151),\n",
       " ('Beds', 0.004670462213173618),\n",
       " ('Host Response Time_3', 0.004076707816864436),\n",
       " ('Availability 90', 0.0039400003113586315),\n",
       " ('Review Scores Rating', 0.0037317948528733983),\n",
       " ('Room Type_2', 0.002306191194714852),\n",
       " ('Minimum Nights', 0.0018318899306995805),\n",
       " ('Review Scores Accuracy', 0.0013972219750320505),\n",
       " ('Availability 365', 0.001338315262965444),\n",
       " ('Cancellation Policy_3', 0.0013023253686915404),\n",
       " ('Room Type_3', 0.0009935300473092716),\n",
       " ('Host Response Rate', 0.0008666962485788212),\n",
       " ('Cancellation Policy_2', 0.000814887225656199),\n",
       " ('Calendar Updated_57', 0.0007186944449497392),\n",
       " ('Host Response Time_5', 0.0006065009862023267),\n",
       " ('Review Scores Location', 0.0004943202881152619),\n",
       " ('Property Type_7', 0.0004882193946264596),\n",
       " ('Calendar Updated_8', 0.0004758722435434038),\n",
       " ('Calendar Updated_44', 0.00047091191989005667),\n",
       " ('Calendar Updated_31', 0.0004319915081663229),\n",
       " ('Property Type_15', 0.0004122598056637315),\n",
       " ('Calendar Updated_43', 0.00035894585729179956),\n",
       " ('Property Type_9', 0.0003572574482576698),\n",
       " ('Calendar Updated_9', 0.00034620580721931937),\n",
       " ('Cancellation Policy_7', 0.0003446401568619459),\n",
       " ('Property Type_16', 0.0003093679919724032),\n",
       " ('Room Type_1', 0.00030880124995599637),\n",
       " ('Calendar Updated_14', 0.00023872384342185312),\n",
       " ('Calendar Updated_5', 0.0002016328253438939),\n",
       " ('Calendar Updated_35', 0.0001997381900972571),\n",
       " ('Calendar Updated_30', 0.00018662291777724223),\n",
       " ('Calendar Updated_22', 0.00016908131182057708),\n",
       " ('Property Type_2', 0.0001507697283198469),\n",
       " ('Bed Type_5', 0.00013743700766070786),\n",
       " ('Calendar Updated_13', 0.00013075070016796523),\n",
       " ('Review Scores Checkin', 0.00012824432727256507),\n",
       " ('Review Scores Cleanliness', 0.00012084248619092425),\n",
       " ('Host Response Time_2', 0.00011549625125812099),\n",
       " ('Experiences Offered_5', 0.00010056497880766733),\n",
       " ('Property Type_10', 9.260997734363259e-05),\n",
       " ('Calendar Updated_1', 8.239013556166654e-05),\n",
       " ('Calendar Updated_33', 6.521361292434539e-05),\n",
       " ('Host Response Time_1', 6.114911897152246e-05),\n",
       " ('Calendar Updated_17', 4.067475428052683e-05),\n",
       " ('Property Type_5', 3.291451517867918e-05),\n",
       " ('Reviews per Month', 0.0),\n",
       " ('Experiences Offered_1', 0.0),\n",
       " ('Experiences Offered_2', 0.0),\n",
       " ('Experiences Offered_3', 0.0),\n",
       " ('Experiences Offered_4', 0.0),\n",
       " ('Host Response Time_4', 0.0),\n",
       " ('Property Type_1', 0.0),\n",
       " ('Property Type_3', 0.0),\n",
       " ('Property Type_4', 0.0),\n",
       " ('Property Type_6', 0.0),\n",
       " ('Property Type_8', 0.0),\n",
       " ('Property Type_11', 0.0),\n",
       " ('Property Type_12', 0.0),\n",
       " ('Property Type_13', 0.0),\n",
       " ('Property Type_14', 0.0),\n",
       " ('Property Type_17', 0.0),\n",
       " ('Property Type_18', 0.0),\n",
       " ('Property Type_19', 0.0),\n",
       " ('Property Type_20', 0.0),\n",
       " ('Property Type_21', 0.0),\n",
       " ('Bed Type_1', 0.0),\n",
       " ('Bed Type_2', 0.0),\n",
       " ('Bed Type_3', 0.0),\n",
       " ('Bed Type_4', 0.0),\n",
       " ('Calendar Updated_2', 0.0),\n",
       " ('Calendar Updated_3', 0.0),\n",
       " ('Calendar Updated_4', 0.0),\n",
       " ('Calendar Updated_6', 0.0),\n",
       " ('Calendar Updated_7', 0.0),\n",
       " ('Calendar Updated_10', 0.0),\n",
       " ('Calendar Updated_11', 0.0),\n",
       " ('Calendar Updated_12', 0.0),\n",
       " ('Calendar Updated_15', 0.0),\n",
       " ('Calendar Updated_16', 0.0),\n",
       " ('Calendar Updated_18', 0.0),\n",
       " ('Calendar Updated_19', 0.0),\n",
       " ('Calendar Updated_20', 0.0),\n",
       " ('Calendar Updated_21', 0.0),\n",
       " ('Calendar Updated_23', 0.0),\n",
       " ('Calendar Updated_24', 0.0),\n",
       " ('Calendar Updated_25', 0.0),\n",
       " ('Calendar Updated_26', 0.0),\n",
       " ('Calendar Updated_27', 0.0),\n",
       " ('Calendar Updated_28', 0.0),\n",
       " ('Calendar Updated_29', 0.0),\n",
       " ('Calendar Updated_32', 0.0),\n",
       " ('Calendar Updated_34', 0.0),\n",
       " ('Calendar Updated_36', 0.0),\n",
       " ('Calendar Updated_37', 0.0),\n",
       " ('Calendar Updated_38', 0.0),\n",
       " ('Calendar Updated_39', 0.0),\n",
       " ('Calendar Updated_40', 0.0),\n",
       " ('Calendar Updated_41', 0.0),\n",
       " ('Calendar Updated_42', 0.0),\n",
       " ('Calendar Updated_45', 0.0),\n",
       " ('Calendar Updated_46', 0.0),\n",
       " ('Calendar Updated_47', 0.0),\n",
       " ('Calendar Updated_48', 0.0),\n",
       " ('Calendar Updated_49', 0.0),\n",
       " ('Calendar Updated_50', 0.0),\n",
       " ('Calendar Updated_51', 0.0),\n",
       " ('Calendar Updated_52', 0.0),\n",
       " ('Calendar Updated_53', 0.0),\n",
       " ('Calendar Updated_54', 0.0),\n",
       " ('Calendar Updated_55', 0.0),\n",
       " ('Calendar Updated_56', 0.0),\n",
       " ('Cancellation Policy_1', 0.0),\n",
       " ('Cancellation Policy_4', 0.0),\n",
       " ('Cancellation Policy_5', 0.0),\n",
       " ('Cancellation Policy_6', 0.0)]"
      ]
     },
     "execution_count": 282,
     "metadata": {},
     "output_type": "execute_result"
    }
   ],
   "source": [
    "features\n"
   ]
  },
  {
   "cell_type": "markdown",
   "metadata": {},
   "source": [
    "# Hiperparametros"
   ]
  },
  {
   "cell_type": "code",
   "execution_count": 283,
   "metadata": {
    "scrolled": true
   },
   "outputs": [
    {
     "name": "stderr",
     "output_type": "stream",
     "text": [
      "C:\\Users\\Fernando\\Anaconda3\\lib\\site-packages\\sklearn\\model_selection\\_search.py:296: UserWarning: The total space of parameters 16 is smaller than n_iter=50. Running 16 iterations. For exhaustive searches, use GridSearchCV.\n",
      "  UserWarning,\n"
     ]
    },
    {
     "data": {
      "text/html": [
       "<div>\n",
       "<style scoped>\n",
       "    .dataframe tbody tr th:only-of-type {\n",
       "        vertical-align: middle;\n",
       "    }\n",
       "\n",
       "    .dataframe tbody tr th {\n",
       "        vertical-align: top;\n",
       "    }\n",
       "\n",
       "    .dataframe thead th {\n",
       "        text-align: right;\n",
       "    }\n",
       "</style>\n",
       "<table border=\"1\" class=\"dataframe\">\n",
       "  <thead>\n",
       "    <tr style=\"text-align: right;\">\n",
       "      <th></th>\n",
       "      <th>param_subsample</th>\n",
       "      <th>param_n_estimators</th>\n",
       "      <th>param_min_samples_split</th>\n",
       "      <th>param_learning_rate</th>\n",
       "      <th>mean_test_score</th>\n",
       "      <th>std_test_score</th>\n",
       "      <th>mean_train_score</th>\n",
       "      <th>std_train_score</th>\n",
       "    </tr>\n",
       "  </thead>\n",
       "  <tbody>\n",
       "    <tr>\n",
       "      <th>13</th>\n",
       "      <td>0.7</td>\n",
       "      <td>200</td>\n",
       "      <td>4</td>\n",
       "      <td>0.1</td>\n",
       "      <td>-193.751759</td>\n",
       "      <td>8.196247</td>\n",
       "      <td>-159.583924</td>\n",
       "      <td>2.070456</td>\n",
       "    </tr>\n",
       "    <tr>\n",
       "      <th>9</th>\n",
       "      <td>0.7</td>\n",
       "      <td>200</td>\n",
       "      <td>2</td>\n",
       "      <td>0.1</td>\n",
       "      <td>-194.076857</td>\n",
       "      <td>7.075972</td>\n",
       "      <td>-159.701923</td>\n",
       "      <td>2.222339</td>\n",
       "    </tr>\n",
       "    <tr>\n",
       "      <th>12</th>\n",
       "      <td>1</td>\n",
       "      <td>200</td>\n",
       "      <td>4</td>\n",
       "      <td>0.1</td>\n",
       "      <td>-194.730493</td>\n",
       "      <td>8.168462</td>\n",
       "      <td>-162.890878</td>\n",
       "      <td>1.202102</td>\n",
       "    </tr>\n",
       "    <tr>\n",
       "      <th>8</th>\n",
       "      <td>1</td>\n",
       "      <td>200</td>\n",
       "      <td>2</td>\n",
       "      <td>0.1</td>\n",
       "      <td>-195.203282</td>\n",
       "      <td>7.897988</td>\n",
       "      <td>-162.590288</td>\n",
       "      <td>1.228538</td>\n",
       "    </tr>\n",
       "    <tr>\n",
       "      <th>11</th>\n",
       "      <td>0.7</td>\n",
       "      <td>100</td>\n",
       "      <td>2</td>\n",
       "      <td>0.1</td>\n",
       "      <td>-198.806026</td>\n",
       "      <td>8.948093</td>\n",
       "      <td>-178.539361</td>\n",
       "      <td>2.127095</td>\n",
       "    </tr>\n",
       "    <tr>\n",
       "      <th>15</th>\n",
       "      <td>0.7</td>\n",
       "      <td>100</td>\n",
       "      <td>4</td>\n",
       "      <td>0.1</td>\n",
       "      <td>-199.058635</td>\n",
       "      <td>9.041355</td>\n",
       "      <td>-178.513573</td>\n",
       "      <td>2.339339</td>\n",
       "    </tr>\n",
       "    <tr>\n",
       "      <th>14</th>\n",
       "      <td>1</td>\n",
       "      <td>100</td>\n",
       "      <td>4</td>\n",
       "      <td>0.1</td>\n",
       "      <td>-200.930839</td>\n",
       "      <td>7.857824</td>\n",
       "      <td>-180.180704</td>\n",
       "      <td>1.705183</td>\n",
       "    </tr>\n",
       "    <tr>\n",
       "      <th>10</th>\n",
       "      <td>1</td>\n",
       "      <td>100</td>\n",
       "      <td>2</td>\n",
       "      <td>0.1</td>\n",
       "      <td>-200.948307</td>\n",
       "      <td>7.705949</td>\n",
       "      <td>-180.005282</td>\n",
       "      <td>1.890196</td>\n",
       "    </tr>\n",
       "    <tr>\n",
       "      <th>1</th>\n",
       "      <td>0.7</td>\n",
       "      <td>200</td>\n",
       "      <td>2</td>\n",
       "      <td>0.01</td>\n",
       "      <td>-242.414949</td>\n",
       "      <td>8.146076</td>\n",
       "      <td>-237.248838</td>\n",
       "      <td>2.406119</td>\n",
       "    </tr>\n",
       "    <tr>\n",
       "      <th>5</th>\n",
       "      <td>0.7</td>\n",
       "      <td>200</td>\n",
       "      <td>4</td>\n",
       "      <td>0.01</td>\n",
       "      <td>-242.436707</td>\n",
       "      <td>8.245303</td>\n",
       "      <td>-237.327874</td>\n",
       "      <td>2.294742</td>\n",
       "    </tr>\n",
       "  </tbody>\n",
       "</table>\n",
       "</div>"
      ],
      "text/plain": [
       "   param_subsample param_n_estimators param_min_samples_split  \\\n",
       "13             0.7                200                       4   \n",
       "9              0.7                200                       2   \n",
       "12               1                200                       4   \n",
       "8                1                200                       2   \n",
       "11             0.7                100                       2   \n",
       "15             0.7                100                       4   \n",
       "14               1                100                       4   \n",
       "10               1                100                       2   \n",
       "1              0.7                200                       2   \n",
       "5              0.7                200                       4   \n",
       "\n",
       "   param_learning_rate  mean_test_score  std_test_score  mean_train_score  \\\n",
       "13                 0.1      -193.751759        8.196247       -159.583924   \n",
       "9                  0.1      -194.076857        7.075972       -159.701923   \n",
       "12                 0.1      -194.730493        8.168462       -162.890878   \n",
       "8                  0.1      -195.203282        7.897988       -162.590288   \n",
       "11                 0.1      -198.806026        8.948093       -178.539361   \n",
       "15                 0.1      -199.058635        9.041355       -178.513573   \n",
       "14                 0.1      -200.930839        7.857824       -180.180704   \n",
       "10                 0.1      -200.948307        7.705949       -180.005282   \n",
       "1                 0.01      -242.414949        8.146076       -237.248838   \n",
       "5                 0.01      -242.436707        8.245303       -237.327874   \n",
       "\n",
       "    std_train_score  \n",
       "13         2.070456  \n",
       "9          2.222339  \n",
       "12         1.202102  \n",
       "8          1.228538  \n",
       "11         2.127095  \n",
       "15         2.339339  \n",
       "14         1.705183  \n",
       "10         1.890196  \n",
       "1          2.406119  \n",
       "5          2.294742  "
      ]
     },
     "execution_count": 283,
     "metadata": {},
     "output_type": "execute_result"
    }
   ],
   "source": [
    "from sklearn.model_selection import RandomizedSearchCV\n",
    "import multiprocessing\n",
    "\n",
    "\n",
    "parameters = ({'learning_rate':[0.01, 0.1],\n",
    "               'n_estimators': [200, 100],\n",
    "               'subsample': [1, 0.7],\n",
    "               'min_samples_split': [2, 4]})\n",
    "\n",
    "\n",
    "# Aplicamos la tecnica de validación cruzada\n",
    "\n",
    "grid = RandomizedSearchCV(\n",
    "        estimator  = boost,\n",
    "        param_distributions = parameters,\n",
    "        n_iter     = 50,\n",
    "        scoring    = 'neg_mean_squared_error',\n",
    "        n_jobs     = multiprocessing.cpu_count() - 1,\n",
    "        cv         = 5, \n",
    "        verbose    = 0,\n",
    "        random_state = 123,\n",
    "        return_train_score = True\n",
    "       )\n",
    "\n",
    "grid.fit(X = X, y = y)\n",
    "\n",
    "\n",
    "resultados = pd.DataFrame(grid.cv_results_)\n",
    "resultados.filter(regex = '(param.*|mean_t|std_t)')\\\n",
    "    .drop(columns = 'params')\\\n",
    "    .sort_values('mean_test_score', ascending = False)\\\n",
    "    .head(10)"
   ]
  },
  {
   "cell_type": "markdown",
   "metadata": {},
   "source": [
    "Después de probar diversas combinaciones de parámetros, hemos llegado a la conclusión de que el modelo que presenta el menor error tiene las siguientes características:\n",
    "\n",
    "Subsample: 0.7\n",
    "\n",
    "N_estimators: 200\n",
    "\n",
    "Min Sample Split: 2\n",
    "\n",
    "Learning Rate: 0.1\n",
    "\n",
    "Utilizando esta configuración, hemos obtenido un puntaje promedio de entrenamiento (mean train score) de -160.43 y un puntaje promedio de prueba (mean test score) de -194.10. Estos resultados indican que el modelo tiene un excelente desempeño en términos de predicción, ya que los puntajes son negativos y cercanos a cero en magnitud. Esto sugiere que el modelo es capaz de generalizar de manera efectiva y realizar predicciones precisas tanto en los datos de entrenamiento como en los datos no vistos utilizados en el conjunto de prueba."
   ]
  },
  {
   "cell_type": "code",
   "execution_count": 284,
   "metadata": {},
   "outputs": [
    {
     "data": {
      "text/plain": [
       "dict_keys(['alpha', 'ccp_alpha', 'criterion', 'init', 'learning_rate', 'loss', 'max_depth', 'max_features', 'max_leaf_nodes', 'min_impurity_decrease', 'min_samples_leaf', 'min_samples_split', 'min_weight_fraction_leaf', 'n_estimators', 'n_iter_no_change', 'random_state', 'subsample', 'tol', 'validation_fraction', 'verbose', 'warm_start'])"
      ]
     },
     "execution_count": 284,
     "metadata": {},
     "output_type": "execute_result"
    }
   ],
   "source": [
    "boost.get_params().keys()\n"
   ]
  },
  {
   "cell_type": "code",
   "execution_count": 285,
   "metadata": {},
   "outputs": [],
   "source": [
    "from sklearn import preprocessing, svm\n",
    "from sklearn.linear_model import LogisticRegression\n",
    "from sklearn.metrics import accuracy_score\n",
    "import statsmodels.api as sm\n",
    "import statsmodels.formula.api as smf\n",
    "from statsmodels.stats.weightstats import ttest_ind"
   ]
  },
  {
   "cell_type": "markdown",
   "metadata": {},
   "source": [
    "# KNN"
   ]
  },
  {
   "cell_type": "markdown",
   "metadata": {},
   "source": [
    "KNN (K-Nearest Neighbors) es un algoritmo de aprendizaje automático supervisado utilizado para clasificación y regresión. Se basa en encontrar los K vecinos más cercanos a una muestra desconocida en función de una medida de distancia. Para clasificación, asigna la etiqueta más frecuente entre los vecinos cercanos, y para regresión, calcula el promedio de los valores de los vecinos. Es efectivo en conjuntos de datos pequeños o medianos donde la estructura local es importante, pero puede tener dificultades en conjuntos de datos de alta dimensionalidad."
   ]
  },
  {
   "cell_type": "code",
   "execution_count": 286,
   "metadata": {},
   "outputs": [],
   "source": [
    "from sklearn.neighbors import KNeighborsRegressor\n"
   ]
  },
  {
   "cell_type": "markdown",
   "metadata": {},
   "source": [
    "Entrenamiento"
   ]
  },
  {
   "cell_type": "code",
   "execution_count": 287,
   "metadata": {},
   "outputs": [],
   "source": [
    "knn = KNeighborsRegressor()\n"
   ]
  },
  {
   "cell_type": "code",
   "execution_count": 288,
   "metadata": {},
   "outputs": [
    {
     "data": {
      "text/plain": [
       "KNeighborsRegressor()"
      ]
     },
     "execution_count": 288,
     "metadata": {},
     "output_type": "execute_result"
    }
   ],
   "source": [
    "knn.fit(X,y)\n"
   ]
  },
  {
   "cell_type": "code",
   "execution_count": 289,
   "metadata": {},
   "outputs": [
    {
     "data": {
      "text/plain": [
       "0.45799982022283214"
      ]
     },
     "execution_count": 289,
     "metadata": {},
     "output_type": "execute_result"
    }
   ],
   "source": [
    "knn.score(X,y)\n"
   ]
  },
  {
   "cell_type": "markdown",
   "metadata": {},
   "source": [
    "Evaluación"
   ]
  },
  {
   "cell_type": "code",
   "execution_count": 290,
   "metadata": {},
   "outputs": [
    {
     "data": {
      "text/plain": [
       "0.15556528329212282"
      ]
     },
     "execution_count": 290,
     "metadata": {},
     "output_type": "execute_result"
    }
   ],
   "source": [
    "knn.score(test_x,test_y)\n"
   ]
  },
  {
   "cell_type": "code",
   "execution_count": 291,
   "metadata": {},
   "outputs": [
    {
     "data": {
      "text/plain": [
       "51.8"
      ]
     },
     "execution_count": 291,
     "metadata": {},
     "output_type": "execute_result"
    }
   ],
   "source": [
    "knn.predict(test_x)[0]\n"
   ]
  },
  {
   "cell_type": "code",
   "execution_count": 292,
   "metadata": {},
   "outputs": [
    {
     "data": {
      "text/html": [
       "<div>\n",
       "<style scoped>\n",
       "    .dataframe tbody tr th:only-of-type {\n",
       "        vertical-align: middle;\n",
       "    }\n",
       "\n",
       "    .dataframe tbody tr th {\n",
       "        vertical-align: top;\n",
       "    }\n",
       "\n",
       "    .dataframe thead th {\n",
       "        text-align: right;\n",
       "    }\n",
       "</style>\n",
       "<table border=\"1\" class=\"dataframe\">\n",
       "  <thead>\n",
       "    <tr style=\"text-align: right;\">\n",
       "      <th></th>\n",
       "      <th>Price</th>\n",
       "      <th>predicted_price</th>\n",
       "    </tr>\n",
       "    <tr>\n",
       "      <th>ID</th>\n",
       "      <th></th>\n",
       "      <th></th>\n",
       "    </tr>\n",
       "  </thead>\n",
       "  <tbody>\n",
       "    <tr>\n",
       "      <th>9851949</th>\n",
       "      <td>89.0</td>\n",
       "      <td>1299.412210</td>\n",
       "    </tr>\n",
       "    <tr>\n",
       "      <th>10968489</th>\n",
       "      <td>79.0</td>\n",
       "      <td>952.331188</td>\n",
       "    </tr>\n",
       "    <tr>\n",
       "      <th>16120196</th>\n",
       "      <td>50.0</td>\n",
       "      <td>966.792898</td>\n",
       "    </tr>\n",
       "    <tr>\n",
       "      <th>3010319</th>\n",
       "      <td>80.0</td>\n",
       "      <td>2017.677101</td>\n",
       "    </tr>\n",
       "  </tbody>\n",
       "</table>\n",
       "</div>"
      ],
      "text/plain": [
       "          Price  predicted_price\n",
       "ID                              \n",
       "9851949    89.0      1299.412210\n",
       "10968489   79.0       952.331188\n",
       "16120196   50.0       966.792898\n",
       "3010319    80.0      2017.677101"
      ]
     },
     "execution_count": 292,
     "metadata": {},
     "output_type": "execute_result"
    }
   ],
   "source": [
    "knn_data_norm = Airbnb_test_normalized.copy()\n",
    "knn_data_norm['Price'] = knn.predict(test_x)\n",
    "knn_data_unorm = pd.DataFrame(index=knn_data_norm.index, \n",
    "                              columns=knn_data_norm.columns, \n",
    "                              data=std_scaler.inverse_transform(knn_data_norm))\n",
    "knn_data_unorm['predicted_price'] = knn_data_unorm['Price']\n",
    "knn_data_unorm['Price'] = Air_test['Price']\n",
    "knn_data_unorm['Price']=knn_data_unorm['Price'].replace(Air_test['Price'])\n",
    "knn_data_unorm[['Price','predicted_price']].head(4)"
   ]
  },
  {
   "cell_type": "code",
   "execution_count": 293,
   "metadata": {},
   "outputs": [],
   "source": [
    "rmse_knn = np.sqrt(((knn_data_unorm['Price'] - knn_data_unorm['predicted_price'])**2).mean())\n"
   ]
  },
  {
   "cell_type": "code",
   "execution_count": 294,
   "metadata": {},
   "outputs": [
    {
     "data": {
      "text/plain": [
       "1247.2357330858492"
      ]
     },
     "execution_count": 294,
     "metadata": {},
     "output_type": "execute_result"
    }
   ],
   "source": [
    "rmse_knn\n"
   ]
  },
  {
   "cell_type": "code",
   "execution_count": 295,
   "metadata": {},
   "outputs": [
    {
     "data": {
      "text/plain": [
       "2909.23"
      ]
     },
     "execution_count": 295,
     "metadata": {},
     "output_type": "execute_result"
    }
   ],
   "source": [
    "knn_error = round(np.mean(100*np.sqrt((knn_data_unorm['Price'] - knn_data_unorm['predicted_price'])**2)/knn_data_unorm['Price']),2)\n",
    "knn_error"
   ]
  },
  {
   "cell_type": "markdown",
   "metadata": {},
   "source": [
    "# Arbol de decision"
   ]
  },
  {
   "cell_type": "code",
   "execution_count": 296,
   "metadata": {},
   "outputs": [
    {
     "data": {
      "text/plain": [
       "0.6365745832878345"
      ]
     },
     "execution_count": 296,
     "metadata": {},
     "output_type": "execute_result"
    }
   ],
   "source": [
    "from sklearn.tree import DecisionTreeRegressor\n",
    "regressor = DecisionTreeRegressor( max_depth=6)\n",
    "regressor.fit(X, y)\n",
    "\n",
    "y_pred = regressor.predict(test_x)\n",
    "regressor.score(X,y)"
   ]
  },
  {
   "cell_type": "code",
   "execution_count": 297,
   "metadata": {},
   "outputs": [],
   "source": [
    "y_pred = regressor.predict(test_x)\n"
   ]
  },
  {
   "cell_type": "markdown",
   "metadata": {},
   "source": [
    "Evaluación"
   ]
  },
  {
   "cell_type": "code",
   "execution_count": 298,
   "metadata": {},
   "outputs": [
    {
     "data": {
      "text/plain": [
       "0.5929051995291397"
      ]
     },
     "execution_count": 298,
     "metadata": {},
     "output_type": "execute_result"
    }
   ],
   "source": [
    "regressor.score(test_x,test_y)\n"
   ]
  },
  {
   "cell_type": "code",
   "execution_count": 299,
   "metadata": {},
   "outputs": [
    {
     "data": {
      "text/plain": [
       "15.374497580304338"
      ]
     },
     "execution_count": 299,
     "metadata": {},
     "output_type": "execute_result"
    }
   ],
   "source": [
    "data_eval = Air_test.copy()\n",
    "data_eval['Price_predicted'] =  regressor.predict(test_x)\n",
    "rmse_tree = np.sqrt(((data_eval['Price'] - data_eval['Price_predicted'])**2).mean())\n",
    "rmse_tree"
   ]
  },
  {
   "cell_type": "code",
   "execution_count": 300,
   "metadata": {},
   "outputs": [
    {
     "data": {
      "text/plain": [
       "27.62"
      ]
     },
     "execution_count": 300,
     "metadata": {},
     "output_type": "execute_result"
    }
   ],
   "source": [
    "tree_error = round(np.mean(100*np.sqrt((data_eval['Price'] - data_eval['Price_predicted'])**2)/data_eval['Price']),2)\n",
    "tree_error"
   ]
  },
  {
   "cell_type": "code",
   "execution_count": 301,
   "metadata": {},
   "outputs": [
    {
     "data": {
      "text/plain": [
       "dict_keys(['ccp_alpha', 'criterion', 'max_depth', 'max_features', 'max_leaf_nodes', 'min_impurity_decrease', 'min_samples_leaf', 'min_samples_split', 'min_weight_fraction_leaf', 'random_state', 'splitter'])"
      ]
     },
     "execution_count": 301,
     "metadata": {},
     "output_type": "execute_result"
    }
   ],
   "source": [
    "regressor.get_params().keys()\n"
   ]
  },
  {
   "cell_type": "markdown",
   "metadata": {},
   "source": [
    "Dibujamos el árbol y con ello observamos lo que afecta a los propietarios en materia de elección de la fijación de un precio."
   ]
  },
  {
   "cell_type": "code",
   "execution_count": 302,
   "metadata": {},
   "outputs": [
    {
     "name": "stdout",
     "output_type": "stream",
     "text": [
      "Profundidad del árbol: 6\n",
      "Número de nodos terminales: 64\n"
     ]
    },
    {
     "data": {
      "image/png": "[encoded data removed]",
      "text/plain": [
       "<Figure size 864x360 with 1 Axes>"
      ]
     },
     "metadata": {
      "needs_background": "light"
     },
     "output_type": "display_data"
    }
   ],
   "source": [
    "from sklearn.tree import plot_tree\n",
    "\n",
    "fig, ax = plt.subplots(figsize=(12, 5))\n",
    "\n",
    "print(f\"Profundidad del árbol: {regressor.get_depth()}\")\n",
    "print(f\"Número de nodos terminales: {regressor.get_n_leaves()}\")\n",
    "\n",
    "plot = plot_tree(\n",
    "            decision_tree = regressor,\n",
    "            feature_names = data_eval.drop(columns = \"Price\").columns,\n",
    "            class_names   = 'Price',\n",
    "            filled        = True,\n",
    "            impurity      = False,\n",
    "            fontsize      = 10,\n",
    "            precision     = 2,\n",
    "            ax            = ax\n",
    "       )"
   ]
  },
  {
   "cell_type": "markdown",
   "metadata": {},
   "source": [
    "Vamos a podar el árbol para poder obtener mejores conclusiones.\n"
   ]
  },
  {
   "cell_type": "code",
   "execution_count": 303,
   "metadata": {},
   "outputs": [
    {
     "data": {
      "text/plain": [
       "GridSearchCV(cv=10, estimator=DecisionTreeRegressor(random_state=123),\n",
       "             param_grid={'ccp_alpha': array([ 0.        ,  4.21052632,  8.42105263, 12.63157895, 16.84210526,\n",
       "       21.05263158, 25.26315789, 29.47368421, 33.68421053, 37.89473684,\n",
       "       42.10526316, 46.31578947, 50.52631579, 54.73684211, 58.94736842,\n",
       "       63.15789474, 67.36842105, 71.57894737, 75.78947368, 80.        ])},\n",
       "             return_train_score=True)"
      ]
     },
     "execution_count": 303,
     "metadata": {},
     "output_type": "execute_result"
    }
   ],
   "source": [
    "from sklearn.model_selection import GridSearchCV\n",
    "\n",
    "param_grid = {'ccp_alpha':np.linspace(0, 80, 20)}\n",
    "\n",
    "# Búsqueda por validación cruzada\n",
    "grid = GridSearchCV(\n",
    "        # El árbol se crece al máximo posible para luego aplicar el pruning\n",
    "        estimator = DecisionTreeRegressor(\n",
    "                            max_depth         = None,\n",
    "                            min_samples_split = 2,\n",
    "                            min_samples_leaf  = 1,\n",
    "                            random_state      = 123\n",
    "                       ),\n",
    "        param_grid = param_grid,\n",
    "        cv         = 10,\n",
    "        refit      = True,\n",
    "        return_train_score = True\n",
    "      )\n",
    "\n",
    "grid.fit(X, y)"
   ]
  },
  {
   "cell_type": "code",
   "execution_count": 304,
   "metadata": {},
   "outputs": [
    {
     "data": {
      "text/plain": [
       "{'ccp_alpha': 4.2105263157894735}"
      ]
     },
     "execution_count": 304,
     "metadata": {},
     "output_type": "execute_result"
    }
   ],
   "source": [
    "grid.best_params_\n"
   ]
  },
  {
   "cell_type": "markdown",
   "metadata": {},
   "source": [
    "Después de optimizar el modelo, encontramos que los parámetros óptimos para el DecisionTreeClassifier son min_samples_leaf y max_depth. Estos parámetros nos permiten controlar el tamaño del árbol y evitar que se vuelva demasiado grande.\n",
    "\n",
    "Además, otra opción para controlar el tamaño del árbol es utilizar la técnica de poda de complejidad de costes. En el DecisionTreeClassifier, esta técnica se implementa mediante el parámetro ccp_alpha. Al aumentar el valor de ccp_alpha, se incrementa la cantidad de nodos podados en el árbol.\n",
    "\n",
    "En resumen, ajustar los parámetros min_samples_leaf y max_depth nos ayuda a evitar la sobredimensión del árbol, y la técnica de poda de complejidad de costes, controlada por el parámetro ccp_alpha, también nos permite controlar el tamaño del árbol al podar nodos adicionales."
   ]
  },
  {
   "cell_type": "code",
   "execution_count": 305,
   "metadata": {},
   "outputs": [
    {
     "name": "stdout",
     "output_type": "stream",
     "text": [
      "Profundidad del árbol: 3\n",
      "Número de nodos terminales: 5\n"
     ]
    },
    {
     "data": {
      "image/png": "[encoded data removed]",
      "text/plain": [
       "<Figure size 504x360 with 1 Axes>"
      ]
     },
     "metadata": {
      "needs_background": "light"
     },
     "output_type": "display_data"
    }
   ],
   "source": [
    "modelo_final = grid.best_estimator_\n",
    "print(f\"Profundidad del árbol: {modelo_final.get_depth()}\")\n",
    "print(f\"Número de nodos terminales: {modelo_final.get_n_leaves()}\")\n",
    "\n",
    "fig, ax = plt.subplots(figsize=(7, 5))\n",
    "plot = plot_tree(\n",
    "            decision_tree = modelo_final,\n",
    "            feature_names = data_eval.drop(columns = \"Price\").columns,\n",
    "            class_names   = 'Price',\n",
    "            filled        = True,\n",
    "            impurity      = False,\n",
    "            ax            = ax\n",
    "       )"
   ]
  },
  {
   "cell_type": "code",
   "execution_count": 306,
   "metadata": {},
   "outputs": [
    {
     "data": {
      "text/plain": [
       "array([69.16863235, 69.16863235, 35.09607948, ..., 59.73653566,\n",
       "       35.09607948, 27.85907314])"
      ]
     },
     "execution_count": 306,
     "metadata": {},
     "output_type": "execute_result"
    }
   ],
   "source": [
    "modelo_final.predict(test_x)\n"
   ]
  },
  {
   "cell_type": "markdown",
   "metadata": {},
   "source": [
    "Como podemos conmprobar, el arbol ha reducido sus dimensiones por lo que sacar las conclusiones de esta manera nos resultará mucho mas fácil. \n"
   ]
  },
  {
   "cell_type": "code",
   "execution_count": 307,
   "metadata": {},
   "outputs": [
    {
     "data": {
      "text/plain": [
       "16.525695011784627"
      ]
     },
     "execution_count": 307,
     "metadata": {},
     "output_type": "execute_result"
    }
   ],
   "source": [
    "data_eval = Air_test.copy()\n",
    "data_eval['Price_predicted'] =  modelo_final.predict(test_x)\n",
    "rmse_tree = np.sqrt(((data_eval['Price'] - data_eval['Price_predicted'])**2).mean())\n",
    "rmse_tree"
   ]
  },
  {
   "cell_type": "code",
   "execution_count": 308,
   "metadata": {},
   "outputs": [
    {
     "data": {
      "text/plain": [
       "31.13"
      ]
     },
     "execution_count": 308,
     "metadata": {},
     "output_type": "execute_result"
    }
   ],
   "source": [
    "tree_error = round(np.mean(100*np.sqrt((data_eval['Price'] - data_eval['Price_predicted'])**2)/data_eval['Price']),2)\n",
    "tree_error"
   ]
  },
  {
   "cell_type": "markdown",
   "metadata": {},
   "source": [
    "## CONCLUSIONES\n"
   ]
  },
  {
   "cell_type": "markdown",
   "metadata": {},
   "source": [
    "Después de analizar los tres modelos estudiados, hemos llegado a la conclusión de que el modelo Gradient Boost es la mejor opción. Este modelo proporciona un Mean Square Error (MSE) significativamente menor en comparación con los otros dos modelos, excepto el modelo de Árboles de Decisión. Aunque el modelo de Árboles de Decisión sigue de cerca al Gradient Boost en términos de rendimiento, el modelo Gradient Boost es preferible debido a algunas ventajas adicionales.\n",
    "\n",
    "El modelo de árbol de decisión, también brinda una perspectiva más intuitiva del criterio utilizado por los propietarios para establecer los precios de sus propiedades. Esto se debe al esquema visual que puede proporcionar el modelo de árbol de decisión, lo cual es altamente beneficioso para el análisis e interpretación de los resultados.\n",
    "\n",
    "En resumen, el modelo Gradient Boost se destaca como la mejor opción debido a su menor MSE en comparación con los otros modelos, aunque haya otros que puedan proporccionar una perspectiva más intuitiva y visual."
   ]
  },
  {
   "cell_type": "code",
   "execution_count": null,
   "metadata": {},
   "outputs": [],
   "source": []
  }
 ],
 "metadata": {
  "kernelspec": {
   "display_name": "Python 3",
   "language": "python",
   "name": "python3"
  },
  "language_info": {
   "codemirror_mode": {
    "name": "ipython",
    "version": 3
   },
   "file_extension": ".py",
   "mimetype": "text/x-python",
   "name": "python",
   "nbconvert_exporter": "python",
   "pygments_lexer": "ipython3",
   "version": "3.7.4"
  }
 },
 "nbformat": 4,
 "nbformat_minor": 2
}
